{
  "cells": [
    {
      "cell_type": "code",
      "execution_count": 1,
      "metadata": {
        "id": "XiijLd2Dy_tV"
      },
      "outputs": [],
      "source": [
        "from torch import nn\n",
        "from torch.utils.data import DataLoader, Subset\n",
        "from torchvision import datasets, transforms\n",
        "from tqdm import tqdm\n",
        "import torch\n",
        "import tensorflow as tf\n",
        "import random\n",
        "import numpy as np\n",
        "import pandas as pd\n",
        "\n",
        "from visualize import visualize_dataset\n",
        "from causal_inference import compute_ATE, ATE\n",
        "from dataset import DatasetCausalInference, ObservedDataset\n",
        "from raw_embedding import RawEmbedding\n",
        "from causal_embedding import DebiasedEmbeddingNet\n",
        "from naive_embedding import NaiveEmbeddingNet\n",
        "import config"
      ]
    },
    {
      "cell_type": "code",
      "execution_count": 2,
      "metadata": {
        "id": "ADbY7EPjy_tZ"
      },
      "outputs": [],
      "source": [
        "# Set the seed for reproducibility\n",
        "random.seed(42)\n",
        "np.random.seed(42)\n",
        "tf.random.set_seed(42)\n",
        "torch.manual_seed(42)\n",
        "torch.cuda.manual_seed(42)\n",
        "torch.backends.cudnn.deterministic = True\n",
        "torch.backends.cudnn.benchmark = False"
      ]
    },
    {
      "cell_type": "code",
      "execution_count": 3,
      "metadata": {
        "id": "p-cHN9t2y_ta"
      },
      "outputs": [],
      "source": [
        "device = torch.device(\"cuda\" if torch.cuda.is_available() else \"cpu\")"
      ]
    },
    {
      "cell_type": "code",
      "execution_count": 4,
      "metadata": {
        "id": "L6cpdQ2Hy_ta"
      },
      "outputs": [],
      "source": [
        "### DATASET CONFIGURATION ###\n",
        "num_seeds = config.num_seeds\n",
        "dim_covariate = config.dim_covariate\n",
        "dim_covariate_image = config.dim_covariate_image\n",
        "dim_post_treatment = config.dim_post_treatment\n",
        "\n",
        "### AUTOENCODER CONFIGURATION ###\n",
        "data_root = \"./data\"\n",
        "batch_size_autoencoder = config.batch_size_autoencoder\n",
        "\n",
        "### CAUSAL INFERENCE CONFIGURATION ###\n",
        "# Specify the sample size for the training and test dataset\n",
        "trainig_sample_size = config.trainig_sample_size\n",
        "test_sample_size = config.test_sample_size\n",
        "\n",
        "# Define the batch size for causal inference\n",
        "batch_size_causal_embedding = config.batch_size_causal_embedding\n",
        "\n",
        "# Define the learning rate, number of epochs, and weight decay for the embedding net\n",
        "lr_embed = config.lr_embed\n",
        "epochs_embed = config.epochs_embed\n",
        "weight_decay_embed = config.weight_decay_embed\n",
        "\n",
        "# Define the dimension of the embedding of the image covariate and post-treatment\n",
        "dim_covariate_image_embed = config.dim_covariate_image_embed\n",
        "dim_post_treatment_embed = config.dim_post_treatment_embed\n",
        "\n",
        "dim_covariate_image_embed_naive = config.dim_covariate_image_embed_naive"
      ]
    },
    {
      "cell_type": "code",
      "execution_count": 5,
      "metadata": {
        "id": "8zwNVYXvy_tc"
      },
      "outputs": [],
      "source": [
        "# Define the dataframe for storing the results\n",
        "df_result = pd.DataFrame(columns=[\"id\", \"estimator\", \"method\", \"train_err\", \"test_err\"])"
      ]
    },
    {
      "cell_type": "code",
      "execution_count": 6,
      "metadata": {
        "id": "6C9JIlQ6y_tc"
      },
      "outputs": [],
      "source": [
        "tfm = transforms.ToTensor()\n",
        "train_dataset = datasets.FashionMNIST(data_root, train=True , download=True, transform=tfm)\n",
        "test_dataset  = datasets.FashionMNIST(data_root, train=False, download=True, transform=tfm)\n",
        "\n",
        "train_dataset_no_transform = datasets.FashionMNIST(data_root, train=True , download=True)\n",
        "test_dataset_no_transform  = datasets.FashionMNIST(data_root, train=False, download=True)\n",
        "\n",
        "train_dataset = Subset(train_dataset, range(config.n_train_fMNIST))\n",
        "test_dataset  = Subset(test_dataset,  range(config.n_test_fMNIST))"
      ]
    },
    {
      "cell_type": "code",
      "execution_count": 7,
      "metadata": {
        "colab": {
          "base_uri": "https://localhost:8080/"
        },
        "id": "EB5gzp3ey_td",
        "outputId": "353e32c9-f393-4caf-dd77-6ecd0dc72f38"
      },
      "outputs": [
        {
          "name": "stderr",
          "output_type": "stream",
          "text": [
            "100%|██████████| 10/10 [00:06<00:00,  1.56it/s]\n"
          ]
        }
      ],
      "source": [
        "# Create data loader for obtaining embedding of the raw images\n",
        "train_loader = DataLoader(train_dataset, batch_size=batch_size_autoencoder, shuffle=False)\n",
        "test_loader  = DataLoader(test_dataset , batch_size=batch_size_autoencoder, shuffle=False)\n",
        "\n",
        "raw_embedding = RawEmbedding(hidden_dim=dim_covariate_image, train_loader=train_loader, test_loader=test_loader)\n",
        "train_embeddings, test_embeddings = raw_embedding.obtain_embeddings()"
      ]
    },
    {
      "cell_type": "code",
      "execution_count": 8,
      "metadata": {
        "colab": {
          "base_uri": "https://localhost:8080/"
        },
        "id": "WL1ZoGvvy_td",
        "outputId": "be825157-759c-4038-9743-b1927a304e38"
      },
      "outputs": [
        {
          "data": {
            "text/plain": [
              "torch.Size([1000, 10])"
            ]
          },
          "execution_count": 8,
          "metadata": {},
          "output_type": "execute_result"
        }
      ],
      "source": [
        "train_embeddings.shape"
      ]
    },
    {
      "cell_type": "code",
      "execution_count": 9,
      "metadata": {
        "id": "AgJqSPUpy_te"
      },
      "outputs": [],
      "source": [
        "# Save and load the embeddings\n",
        "torch.save((train_embeddings, test_embeddings), \"fashion_mnist_embedding.pt\") # Save the embeddings\n",
        "train_embeddings, test_embeddings = torch.load(\"fashion_mnist_embedding.pt\") # Load the saved embeddings"
      ]
    },
    {
      "cell_type": "code",
      "execution_count": 10,
      "metadata": {
        "id": "WfxtmoI8y_tf"
      },
      "outputs": [],
      "source": [
        "# Create the dataset object for causal inference\n",
        "dataset_ci = DatasetCausalInference(dim_covariate, dim_covariate_image, dim_post_treatment, train_embeddings, test_embeddings, train_dataset_no_transform, test_dataset_no_transform)"
      ]
    },
    {
      "cell_type": "code",
      "execution_count": 11,
      "metadata": {
        "colab": {
          "base_uri": "https://localhost:8080/",
          "height": 1000
        },
        "id": "v1j8yToAy_ti",
        "outputId": "205ccc27-0422-47ce-c1c3-019720538426"
      },
      "outputs": [
        {
          "name": "stderr",
          "output_type": "stream",
          "text": [
            "\r  0%|          | 0/10 [00:00<?, ?it/s]"
          ]
        },
        {
          "data": {
            "image/png": "[encoded data removed]",
            "text/plain": [
              "<Figure size 500x600 with 6 Axes>"
            ]
          },
          "metadata": {},
          "output_type": "display_data"
        },
        {
          "data": {
            "image/png": "[encoded data removed]",
            "text/plain": [
              "<Figure size 500x600 with 6 Axes>"
            ]
          },
          "metadata": {},
          "output_type": "display_data"
        },
        {
          "name": "stderr",
          "output_type": "stream",
          "text": [
            "\n",
            "Seed 0 / 10:   0%|          | 0/10 [00:00<?, ?it/s]\u001b[A\n",
            "Seed 0 / 10:  10%|█         | 1/10 [00:05<00:51,  5.74s/it]\u001b[A"
          ]
        },
        {
          "name": "stdout",
          "output_type": "stream",
          "text": [
            "Epoch 1/10 Loss: 0.1313\n"
          ]
        },
        {
          "name": "stderr",
          "output_type": "stream",
          "text": [
            "\n",
            "Seed 0 / 10:  20%|██        | 2/10 [00:10<00:42,  5.35s/it]\u001b[A"
          ]
        },
        {
          "name": "stdout",
          "output_type": "stream",
          "text": [
            "Epoch 2/10 Loss: 0.0772\n"
          ]
        },
        {
          "name": "stderr",
          "output_type": "stream",
          "text": [
            "\n",
            "Seed 0 / 10:  30%|███       | 3/10 [00:16<00:39,  5.59s/it]\u001b[A"
          ]
        },
        {
          "name": "stdout",
          "output_type": "stream",
          "text": [
            "Epoch 3/10 Loss: 0.0636\n"
          ]
        },
        {
          "name": "stderr",
          "output_type": "stream",
          "text": [
            "\n",
            "Seed 0 / 10:  40%|████      | 4/10 [00:21<00:32,  5.34s/it]\u001b[A"
          ]
        },
        {
          "name": "stdout",
          "output_type": "stream",
          "text": [
            "Epoch 4/10 Loss: 0.0516\n"
          ]
        },
        {
          "name": "stderr",
          "output_type": "stream",
          "text": [
            "\n",
            "Seed 0 / 10:  50%|█████     | 5/10 [00:27<00:27,  5.43s/it]\u001b[A"
          ]
        },
        {
          "name": "stdout",
          "output_type": "stream",
          "text": [
            "Epoch 5/10 Loss: 0.0403\n"
          ]
        },
        {
          "name": "stderr",
          "output_type": "stream",
          "text": [
            "\n",
            "Seed 0 / 10:  60%|██████    | 6/10 [00:32<00:21,  5.33s/it]\u001b[A"
          ]
        },
        {
          "name": "stdout",
          "output_type": "stream",
          "text": [
            "Epoch 6/10 Loss: 0.0337\n"
          ]
        },
        {
          "name": "stderr",
          "output_type": "stream",
          "text": [
            "\n",
            "Seed 0 / 10:  70%|███████   | 7/10 [00:37<00:15,  5.22s/it]\u001b[A"
          ]
        },
        {
          "name": "stdout",
          "output_type": "stream",
          "text": [
            "Epoch 7/10 Loss: 0.0304\n"
          ]
        },
        {
          "name": "stderr",
          "output_type": "stream",
          "text": [
            "\n",
            "Seed 0 / 10:  80%|████████  | 8/10 [00:43<00:10,  5.39s/it]\u001b[A"
          ]
        },
        {
          "name": "stdout",
          "output_type": "stream",
          "text": [
            "Epoch 8/10 Loss: 0.0283\n"
          ]
        },
        {
          "name": "stderr",
          "output_type": "stream",
          "text": [
            "\n",
            "Seed 0 / 10:  90%|█████████ | 9/10 [00:48<00:05,  5.25s/it]\u001b[A"
          ]
        },
        {
          "name": "stdout",
          "output_type": "stream",
          "text": [
            "Epoch 9/10 Loss: 0.0264\n"
          ]
        },
        {
          "name": "stderr",
          "output_type": "stream",
          "text": [
            "\n",
            "Seed 0 / 10: 100%|██████████| 10/10 [00:53<00:00,  5.38s/it]\n"
          ]
        },
        {
          "name": "stdout",
          "output_type": "stream",
          "text": [
            "Epoch 10/10 Loss: 0.0248\n"
          ]
        },
        {
          "name": "stderr",
          "output_type": "stream",
          "text": [
            "\n",
            "  0%|          | 0/10 [00:00<?, ?it/s]\u001b[A\n",
            " 10%|█         | 1/10 [00:06<00:56,  6.23s/it]\u001b[A"
          ]
        },
        {
          "name": "stdout",
          "output_type": "stream",
          "text": [
            "Epoch 1/10 Loss: 0.8704\n"
          ]
        },
        {
          "name": "stderr",
          "output_type": "stream",
          "text": [
            "\n",
            " 20%|██        | 2/10 [00:13<00:53,  6.63s/it]\u001b[A"
          ]
        },
        {
          "name": "stdout",
          "output_type": "stream",
          "text": [
            "Epoch 2/10 Loss: 0.4682\n"
          ]
        },
        {
          "name": "stderr",
          "output_type": "stream",
          "text": [
            "\n",
            " 30%|███       | 3/10 [00:19<00:45,  6.44s/it]\u001b[A"
          ]
        },
        {
          "name": "stdout",
          "output_type": "stream",
          "text": [
            "Epoch 3/10 Loss: 0.3439\n"
          ]
        },
        {
          "name": "stderr",
          "output_type": "stream",
          "text": [
            "\n",
            " 40%|████      | 4/10 [00:26<00:39,  6.64s/it]\u001b[A"
          ]
        },
        {
          "name": "stdout",
          "output_type": "stream",
          "text": [
            "Epoch 4/10 Loss: 0.2817\n"
          ]
        },
        {
          "name": "stderr",
          "output_type": "stream",
          "text": [
            "\n",
            " 50%|█████     | 5/10 [00:32<00:32,  6.43s/it]\u001b[A"
          ]
        },
        {
          "name": "stdout",
          "output_type": "stream",
          "text": [
            "Epoch 5/10 Loss: 0.2420\n"
          ]
        },
        {
          "name": "stderr",
          "output_type": "stream",
          "text": [
            "\n",
            " 60%|██████    | 6/10 [00:40<00:27,  6.97s/it]\u001b[A"
          ]
        },
        {
          "name": "stdout",
          "output_type": "stream",
          "text": [
            "Epoch 6/10 Loss: 0.2153\n"
          ]
        },
        {
          "name": "stderr",
          "output_type": "stream",
          "text": [
            "\n",
            " 70%|███████   | 7/10 [00:46<00:20,  6.69s/it]\u001b[A"
          ]
        },
        {
          "name": "stdout",
          "output_type": "stream",
          "text": [
            "Epoch 7/10 Loss: 0.1876\n"
          ]
        },
        {
          "name": "stderr",
          "output_type": "stream",
          "text": [
            "\n",
            " 80%|████████  | 8/10 [00:53<00:13,  6.74s/it]\u001b[A"
          ]
        },
        {
          "name": "stdout",
          "output_type": "stream",
          "text": [
            "Epoch 8/10 Loss: 0.1630\n"
          ]
        },
        {
          "name": "stderr",
          "output_type": "stream",
          "text": [
            "\n",
            " 90%|█████████ | 9/10 [00:59<00:06,  6.66s/it]\u001b[A"
          ]
        },
        {
          "name": "stdout",
          "output_type": "stream",
          "text": [
            "Epoch 9/10 Loss: 0.1514\n"
          ]
        },
        {
          "name": "stderr",
          "output_type": "stream",
          "text": [
            "\n",
            "100%|██████████| 10/10 [01:06<00:00,  6.65s/it]"
          ]
        },
        {
          "name": "stdout",
          "output_type": "stream",
          "text": [
            "Epoch 10/10 Loss: 0.1351\n"
          ]
        },
        {
          "name": "stderr",
          "output_type": "stream",
          "text": [
            "\n",
            "/usr/local/lib/python3.11/dist-packages/sklearn/linear_model/_logistic.py:465: ConvergenceWarning: lbfgs failed to converge (status=1):\n",
            "STOP: TOTAL NO. OF ITERATIONS REACHED LIMIT.\n",
            "\n",
            "Increase the number of iterations (max_iter) or scale the data as shown in:\n",
            "    https://scikit-learn.org/stable/modules/preprocessing.html\n",
            "Please also refer to the documentation for alternative solver options:\n",
            "    https://scikit-learn.org/stable/modules/linear_model.html#logistic-regression\n",
            "  n_iter_i = _check_optimize_result(\n",
            "/usr/local/lib/python3.11/dist-packages/sklearn/linear_model/_logistic.py:465: ConvergenceWarning: lbfgs failed to converge (status=1):\n",
            "STOP: TOTAL NO. OF ITERATIONS REACHED LIMIT.\n",
            "\n",
            "Increase the number of iterations (max_iter) or scale the data as shown in:\n",
            "    https://scikit-learn.org/stable/modules/preprocessing.html\n",
            "Please also refer to the documentation for alternative solver options:\n",
            "    https://scikit-learn.org/stable/modules/linear_model.html#logistic-regression\n",
            "  n_iter_i = _check_optimize_result(\n",
            "<ipython-input-11-c83c538faeae>:123: FutureWarning: The behavior of DataFrame concatenation with empty or all-NA entries is deprecated. In a future version, this will no longer exclude empty or all-NA columns when determining the result dtypes. To retain the old behavior, exclude the relevant entries before the concat operation.\n",
            "  df_result = pd.concat([df_result, df_new], ignore_index=True)\n",
            " 10%|█         | 1/10 [02:11<19:45, 131.76s/it]"
          ]
        },
        {
          "name": "stdout",
          "output_type": "stream",
          "text": [
            "   id   estimator    method  train_err      test_err\n",
            "0   0  regression    biased   0.000930  8.053387e-04\n",
            "1   0         ipw    biased   0.000940  8.110957e-04\n",
            "2   0          dr    biased   0.000934  8.073875e-04\n",
            "3   0  regression     naive   0.000938  3.394064e-04\n",
            "4   0         ipw     naive   0.001010  3.347583e-03\n",
            "5   0          dr     naive   0.000947  9.708225e-04\n",
            "6   0  regression  debiased   0.000950  1.434035e-07\n",
            "7   0         ipw  debiased   0.000957  2.071013e-06\n",
            "8   0          dr  debiased   0.000965  7.183886e-05\n"
          ]
        },
        {
          "data": {
            "image/png": "[encoded data removed]",
            "text/plain": [
              "<Figure size 500x600 with 6 Axes>"
            ]
          },
          "metadata": {},
          "output_type": "display_data"
        },
        {
          "data": {
            "image/png": "[encoded data removed]",
            "text/plain": [
              "<Figure size 500x600 with 6 Axes>"
            ]
          },
          "metadata": {},
          "output_type": "display_data"
        },
        {
          "name": "stderr",
          "output_type": "stream",
          "text": [
            "\n",
            "Seed 1 / 10:   0%|          | 0/10 [00:00<?, ?it/s]\u001b[A\n",
            "Seed 1 / 10:  10%|█         | 1/10 [00:04<00:43,  4.79s/it]\u001b[A"
          ]
        },
        {
          "name": "stdout",
          "output_type": "stream",
          "text": [
            "Epoch 1/10 Loss: 0.1068\n"
          ]
        },
        {
          "name": "stderr",
          "output_type": "stream",
          "text": [
            "\n",
            "Seed 1 / 10:  20%|██        | 2/10 [00:10<00:42,  5.29s/it]\u001b[A"
          ]
        },
        {
          "name": "stdout",
          "output_type": "stream",
          "text": [
            "Epoch 2/10 Loss: 0.0752\n"
          ]
        },
        {
          "name": "stderr",
          "output_type": "stream",
          "text": [
            "\n",
            "Seed 1 / 10:  30%|███       | 3/10 [00:15<00:35,  5.08s/it]\u001b[A"
          ]
        },
        {
          "name": "stdout",
          "output_type": "stream",
          "text": [
            "Epoch 3/10 Loss: 0.0534\n"
          ]
        },
        {
          "name": "stderr",
          "output_type": "stream",
          "text": [
            "\n",
            "Seed 1 / 10:  40%|████      | 4/10 [00:20<00:31,  5.32s/it]\u001b[A"
          ]
        },
        {
          "name": "stdout",
          "output_type": "stream",
          "text": [
            "Epoch 4/10 Loss: 0.0388\n"
          ]
        },
        {
          "name": "stderr",
          "output_type": "stream",
          "text": [
            "\n",
            "Seed 1 / 10:  50%|█████     | 5/10 [00:25<00:26,  5.22s/it]\u001b[A"
          ]
        },
        {
          "name": "stdout",
          "output_type": "stream",
          "text": [
            "Epoch 5/10 Loss: 0.0322\n"
          ]
        },
        {
          "name": "stderr",
          "output_type": "stream",
          "text": [
            "\n",
            "Seed 1 / 10:  60%|██████    | 6/10 [00:30<00:20,  5.09s/it]\u001b[A"
          ]
        },
        {
          "name": "stdout",
          "output_type": "stream",
          "text": [
            "Epoch 6/10 Loss: 0.0287\n"
          ]
        },
        {
          "name": "stderr",
          "output_type": "stream",
          "text": [
            "\n",
            "Seed 1 / 10:  70%|███████   | 7/10 [00:36<00:15,  5.28s/it]\u001b[A"
          ]
        },
        {
          "name": "stdout",
          "output_type": "stream",
          "text": [
            "Epoch 7/10 Loss: 0.0261\n"
          ]
        },
        {
          "name": "stderr",
          "output_type": "stream",
          "text": [
            "\n",
            "Seed 1 / 10:  80%|████████  | 8/10 [00:41<00:10,  5.16s/it]\u001b[A"
          ]
        },
        {
          "name": "stdout",
          "output_type": "stream",
          "text": [
            "Epoch 8/10 Loss: 0.0240\n"
          ]
        },
        {
          "name": "stderr",
          "output_type": "stream",
          "text": [
            "\n",
            "Seed 1 / 10:  90%|█████████ | 9/10 [00:47<00:05,  5.32s/it]\u001b[A"
          ]
        },
        {
          "name": "stdout",
          "output_type": "stream",
          "text": [
            "Epoch 9/10 Loss: 0.0224\n"
          ]
        },
        {
          "name": "stderr",
          "output_type": "stream",
          "text": [
            "\n",
            "Seed 1 / 10: 100%|██████████| 10/10 [00:51<00:00,  5.20s/it]\n"
          ]
        },
        {
          "name": "stdout",
          "output_type": "stream",
          "text": [
            "Epoch 10/10 Loss: 0.0209\n"
          ]
        },
        {
          "name": "stderr",
          "output_type": "stream",
          "text": [
            "\n",
            "  0%|          | 0/10 [00:00<?, ?it/s]\u001b[A\n",
            " 10%|█         | 1/10 [00:07<01:03,  7.01s/it]\u001b[A"
          ]
        },
        {
          "name": "stdout",
          "output_type": "stream",
          "text": [
            "Epoch 1/10 Loss: 0.8489\n"
          ]
        },
        {
          "name": "stderr",
          "output_type": "stream",
          "text": [
            "\n",
            " 20%|██        | 2/10 [00:13<00:53,  6.71s/it]\u001b[A"
          ]
        },
        {
          "name": "stdout",
          "output_type": "stream",
          "text": [
            "Epoch 2/10 Loss: 0.4376\n"
          ]
        },
        {
          "name": "stderr",
          "output_type": "stream",
          "text": [
            "\n",
            " 30%|███       | 3/10 [00:20<00:48,  6.86s/it]\u001b[A"
          ]
        },
        {
          "name": "stdout",
          "output_type": "stream",
          "text": [
            "Epoch 3/10 Loss: 0.3153\n"
          ]
        },
        {
          "name": "stderr",
          "output_type": "stream",
          "text": [
            "\n",
            " 40%|████      | 4/10 [00:26<00:39,  6.63s/it]\u001b[A"
          ]
        },
        {
          "name": "stdout",
          "output_type": "stream",
          "text": [
            "Epoch 4/10 Loss: 0.2650\n"
          ]
        },
        {
          "name": "stderr",
          "output_type": "stream",
          "text": [
            "\n",
            " 50%|█████     | 5/10 [00:33<00:34,  6.81s/it]\u001b[A"
          ]
        },
        {
          "name": "stdout",
          "output_type": "stream",
          "text": [
            "Epoch 5/10 Loss: 0.2301\n"
          ]
        },
        {
          "name": "stderr",
          "output_type": "stream",
          "text": [
            "\n",
            " 60%|██████    | 6/10 [00:40<00:26,  6.61s/it]\u001b[A"
          ]
        },
        {
          "name": "stdout",
          "output_type": "stream",
          "text": [
            "Epoch 6/10 Loss: 0.1997\n"
          ]
        },
        {
          "name": "stderr",
          "output_type": "stream",
          "text": [
            "\n",
            " 70%|███████   | 7/10 [00:47<00:20,  6.80s/it]\u001b[A"
          ]
        },
        {
          "name": "stdout",
          "output_type": "stream",
          "text": [
            "Epoch 7/10 Loss: 0.1795\n"
          ]
        },
        {
          "name": "stderr",
          "output_type": "stream",
          "text": [
            "\n",
            " 80%|████████  | 8/10 [00:53<00:13,  6.61s/it]\u001b[A"
          ]
        },
        {
          "name": "stdout",
          "output_type": "stream",
          "text": [
            "Epoch 8/10 Loss: 0.1565\n"
          ]
        },
        {
          "name": "stderr",
          "output_type": "stream",
          "text": [
            "\n",
            " 90%|█████████ | 9/10 [01:00<00:06,  6.74s/it]\u001b[A"
          ]
        },
        {
          "name": "stdout",
          "output_type": "stream",
          "text": [
            "Epoch 9/10 Loss: 0.1413\n"
          ]
        },
        {
          "name": "stderr",
          "output_type": "stream",
          "text": [
            "\n",
            "100%|██████████| 10/10 [01:07<00:00,  6.70s/it]"
          ]
        },
        {
          "name": "stdout",
          "output_type": "stream",
          "text": [
            "Epoch 10/10 Loss: 0.1225\n"
          ]
        },
        {
          "name": "stderr",
          "output_type": "stream",
          "text": [
            "\n",
            "/usr/local/lib/python3.11/dist-packages/sklearn/linear_model/_logistic.py:465: ConvergenceWarning: lbfgs failed to converge (status=1):\n",
            "STOP: TOTAL NO. OF ITERATIONS REACHED LIMIT.\n",
            "\n",
            "Increase the number of iterations (max_iter) or scale the data as shown in:\n",
            "    https://scikit-learn.org/stable/modules/preprocessing.html\n",
            "Please also refer to the documentation for alternative solver options:\n",
            "    https://scikit-learn.org/stable/modules/linear_model.html#logistic-regression\n",
            "  n_iter_i = _check_optimize_result(\n",
            "/usr/local/lib/python3.11/dist-packages/sklearn/linear_model/_logistic.py:465: ConvergenceWarning: lbfgs failed to converge (status=1):\n",
            "STOP: TOTAL NO. OF ITERATIONS REACHED LIMIT.\n",
            "\n",
            "Increase the number of iterations (max_iter) or scale the data as shown in:\n",
            "    https://scikit-learn.org/stable/modules/preprocessing.html\n",
            "Please also refer to the documentation for alternative solver options:\n",
            "    https://scikit-learn.org/stable/modules/linear_model.html#logistic-regression\n",
            "  n_iter_i = _check_optimize_result(\n",
            " 20%|██        | 2/10 [04:22<17:27, 130.89s/it]"
          ]
        },
        {
          "name": "stdout",
          "output_type": "stream",
          "text": [
            "   id   estimator    method  train_err  test_err\n",
            "0   1  regression    biased   0.000188  0.001004\n",
            "1   1         ipw    biased   0.000204  0.001032\n",
            "2   1          dr    biased   0.000208  0.001018\n",
            "3   1  regression     naive   0.000159  0.000075\n",
            "4   1         ipw     naive   0.000174  0.008827\n",
            "5   1          dr     naive   0.000177  0.000019\n",
            "6   1  regression  debiased   0.000179  0.000003\n",
            "7   1         ipw  debiased   0.000194  0.000008\n",
            "8   1          dr  debiased   0.000193  0.000063\n"
          ]
        },
        {
          "data": {
            "image/png": "[encoded data removed]",
            "text/plain": [
              "<Figure size 500x600 with 6 Axes>"
            ]
          },
          "metadata": {},
          "output_type": "display_data"
        },
        {
          "data": {
            "image/png": "[encoded data removed]",
            "text/plain": [
              "<Figure size 500x600 with 6 Axes>"
            ]
          },
          "metadata": {},
          "output_type": "display_data"
        },
        {
          "name": "stderr",
          "output_type": "stream",
          "text": [
            "\n",
            "Seed 2 / 10:   0%|          | 0/10 [00:00<?, ?it/s]\u001b[A\n",
            "Seed 2 / 10:  10%|█         | 1/10 [00:05<00:49,  5.48s/it]\u001b[A"
          ]
        },
        {
          "name": "stdout",
          "output_type": "stream",
          "text": [
            "Epoch 1/10 Loss: 0.1332\n"
          ]
        },
        {
          "name": "stderr",
          "output_type": "stream",
          "text": [
            "\n",
            "Seed 2 / 10:  20%|██        | 2/10 [00:10<00:39,  4.98s/it]\u001b[A"
          ]
        },
        {
          "name": "stdout",
          "output_type": "stream",
          "text": [
            "Epoch 2/10 Loss: 0.0746\n"
          ]
        },
        {
          "name": "stderr",
          "output_type": "stream",
          "text": [
            "\n",
            "Seed 2 / 10:  30%|███       | 3/10 [00:15<00:35,  5.13s/it]\u001b[A"
          ]
        },
        {
          "name": "stdout",
          "output_type": "stream",
          "text": [
            "Epoch 3/10 Loss: 0.0634\n"
          ]
        },
        {
          "name": "stderr",
          "output_type": "stream",
          "text": [
            "\n",
            "Seed 2 / 10:  40%|████      | 4/10 [00:21<00:32,  5.48s/it]\u001b[A"
          ]
        },
        {
          "name": "stdout",
          "output_type": "stream",
          "text": [
            "Epoch 4/10 Loss: 0.0524\n"
          ]
        },
        {
          "name": "stderr",
          "output_type": "stream",
          "text": [
            "\n",
            "Seed 2 / 10:  50%|█████     | 5/10 [00:26<00:27,  5.49s/it]\u001b[A"
          ]
        },
        {
          "name": "stdout",
          "output_type": "stream",
          "text": [
            "Epoch 5/10 Loss: 0.0418\n"
          ]
        },
        {
          "name": "stderr",
          "output_type": "stream",
          "text": [
            "\n",
            "Seed 2 / 10:  60%|██████    | 6/10 [00:32<00:21,  5.45s/it]\u001b[A"
          ]
        },
        {
          "name": "stdout",
          "output_type": "stream",
          "text": [
            "Epoch 6/10 Loss: 0.0341\n"
          ]
        },
        {
          "name": "stderr",
          "output_type": "stream",
          "text": [
            "\n",
            "Seed 2 / 10:  70%|███████   | 7/10 [00:37<00:15,  5.21s/it]\u001b[A"
          ]
        },
        {
          "name": "stdout",
          "output_type": "stream",
          "text": [
            "Epoch 7/10 Loss: 0.0306\n"
          ]
        },
        {
          "name": "stderr",
          "output_type": "stream",
          "text": [
            "\n",
            "Seed 2 / 10:  80%|████████  | 8/10 [00:42<00:10,  5.33s/it]\u001b[A"
          ]
        },
        {
          "name": "stdout",
          "output_type": "stream",
          "text": [
            "Epoch 8/10 Loss: 0.0280\n"
          ]
        },
        {
          "name": "stderr",
          "output_type": "stream",
          "text": [
            "\n",
            "Seed 2 / 10:  90%|█████████ | 9/10 [00:47<00:05,  5.14s/it]\u001b[A"
          ]
        },
        {
          "name": "stdout",
          "output_type": "stream",
          "text": [
            "Epoch 9/10 Loss: 0.0258\n"
          ]
        },
        {
          "name": "stderr",
          "output_type": "stream",
          "text": [
            "\n",
            "Seed 2 / 10: 100%|██████████| 10/10 [00:52<00:00,  5.23s/it]\n"
          ]
        },
        {
          "name": "stdout",
          "output_type": "stream",
          "text": [
            "Epoch 10/10 Loss: 0.0241\n"
          ]
        },
        {
          "name": "stderr",
          "output_type": "stream",
          "text": [
            "\n",
            "  0%|          | 0/10 [00:00<?, ?it/s]\u001b[A\n",
            " 10%|█         | 1/10 [00:06<01:02,  6.89s/it]\u001b[A"
          ]
        },
        {
          "name": "stdout",
          "output_type": "stream",
          "text": [
            "Epoch 1/10 Loss: 0.8979\n"
          ]
        },
        {
          "name": "stderr",
          "output_type": "stream",
          "text": [
            "\n",
            " 20%|██        | 2/10 [00:13<00:55,  6.97s/it]\u001b[A"
          ]
        },
        {
          "name": "stdout",
          "output_type": "stream",
          "text": [
            "Epoch 2/10 Loss: 0.4862\n"
          ]
        },
        {
          "name": "stderr",
          "output_type": "stream",
          "text": [
            "\n",
            " 30%|███       | 3/10 [00:20<00:46,  6.71s/it]\u001b[A"
          ]
        },
        {
          "name": "stdout",
          "output_type": "stream",
          "text": [
            "Epoch 3/10 Loss: 0.3492\n"
          ]
        },
        {
          "name": "stderr",
          "output_type": "stream",
          "text": [
            "\n",
            " 40%|████      | 4/10 [00:27<00:41,  6.87s/it]\u001b[A"
          ]
        },
        {
          "name": "stdout",
          "output_type": "stream",
          "text": [
            "Epoch 4/10 Loss: 0.2779\n"
          ]
        },
        {
          "name": "stderr",
          "output_type": "stream",
          "text": [
            "\n",
            " 50%|█████     | 5/10 [00:33<00:33,  6.70s/it]\u001b[A"
          ]
        },
        {
          "name": "stdout",
          "output_type": "stream",
          "text": [
            "Epoch 5/10 Loss: 0.2448\n"
          ]
        },
        {
          "name": "stderr",
          "output_type": "stream",
          "text": [
            "\n",
            " 60%|██████    | 6/10 [00:40<00:27,  6.84s/it]\u001b[A"
          ]
        },
        {
          "name": "stdout",
          "output_type": "stream",
          "text": [
            "Epoch 6/10 Loss: 0.2159\n"
          ]
        },
        {
          "name": "stderr",
          "output_type": "stream",
          "text": [
            "\n",
            " 70%|███████   | 7/10 [00:47<00:19,  6.67s/it]\u001b[A"
          ]
        },
        {
          "name": "stdout",
          "output_type": "stream",
          "text": [
            "Epoch 7/10 Loss: 0.1910\n"
          ]
        },
        {
          "name": "stderr",
          "output_type": "stream",
          "text": [
            "\n",
            " 80%|████████  | 8/10 [00:54<00:13,  6.82s/it]\u001b[A"
          ]
        },
        {
          "name": "stdout",
          "output_type": "stream",
          "text": [
            "Epoch 8/10 Loss: 0.1660\n"
          ]
        },
        {
          "name": "stderr",
          "output_type": "stream",
          "text": [
            "\n",
            " 90%|█████████ | 9/10 [01:00<00:06,  6.66s/it]\u001b[A"
          ]
        },
        {
          "name": "stdout",
          "output_type": "stream",
          "text": [
            "Epoch 9/10 Loss: 0.1464\n"
          ]
        },
        {
          "name": "stderr",
          "output_type": "stream",
          "text": [
            "\n",
            "100%|██████████| 10/10 [01:07<00:00,  6.79s/it]"
          ]
        },
        {
          "name": "stdout",
          "output_type": "stream",
          "text": [
            "Epoch 10/10 Loss: 0.1302\n"
          ]
        },
        {
          "name": "stderr",
          "output_type": "stream",
          "text": [
            "\n",
            "/usr/local/lib/python3.11/dist-packages/sklearn/linear_model/_logistic.py:465: ConvergenceWarning: lbfgs failed to converge (status=1):\n",
            "STOP: TOTAL NO. OF ITERATIONS REACHED LIMIT.\n",
            "\n",
            "Increase the number of iterations (max_iter) or scale the data as shown in:\n",
            "    https://scikit-learn.org/stable/modules/preprocessing.html\n",
            "Please also refer to the documentation for alternative solver options:\n",
            "    https://scikit-learn.org/stable/modules/linear_model.html#logistic-regression\n",
            "  n_iter_i = _check_optimize_result(\n",
            "/usr/local/lib/python3.11/dist-packages/sklearn/linear_model/_logistic.py:465: ConvergenceWarning: lbfgs failed to converge (status=1):\n",
            "STOP: TOTAL NO. OF ITERATIONS REACHED LIMIT.\n",
            "\n",
            "Increase the number of iterations (max_iter) or scale the data as shown in:\n",
            "    https://scikit-learn.org/stable/modules/preprocessing.html\n",
            "Please also refer to the documentation for alternative solver options:\n",
            "    https://scikit-learn.org/stable/modules/linear_model.html#logistic-regression\n",
            "  n_iter_i = _check_optimize_result(\n",
            " 30%|███       | 3/10 [06:33<15:19, 131.31s/it]"
          ]
        },
        {
          "name": "stdout",
          "output_type": "stream",
          "text": [
            "   id   estimator    method     train_err      test_err\n",
            "0   2  regression    biased  2.184622e-07  1.102731e-03\n",
            "1   2         ipw    biased  1.854955e-06  1.092882e-03\n",
            "2   2          dr    biased  1.059811e-06  1.089243e-03\n",
            "3   2  regression     naive  2.601279e-08  7.305163e-05\n",
            "4   2         ipw     naive  5.227887e-07  1.988482e-03\n",
            "5   2          dr     naive  5.804850e-08  1.341132e-05\n",
            "6   2  regression  debiased  3.552464e-09  2.356636e-06\n",
            "7   2         ipw  debiased  8.920497e-07  1.248800e-03\n",
            "8   2          dr  debiased  4.300593e-07  5.451032e-07\n"
          ]
        },
        {
          "data": {
            "image/png": "[encoded data removed]",
            "text/plain": [
              "<Figure size 500x600 with 6 Axes>"
            ]
          },
          "metadata": {},
          "output_type": "display_data"
        },
        {
          "data": {
            "image/png": "[encoded data removed]",
            "text/plain": [
              "<Figure size 500x600 with 6 Axes>"
            ]
          },
          "metadata": {},
          "output_type": "display_data"
        },
        {
          "name": "stderr",
          "output_type": "stream",
          "text": [
            "\n",
            "Seed 3 / 10:   0%|          | 0/10 [00:00<?, ?it/s]\u001b[A\n",
            "Seed 3 / 10:  10%|█         | 1/10 [00:04<00:43,  4.85s/it]\u001b[A"
          ]
        },
        {
          "name": "stdout",
          "output_type": "stream",
          "text": [
            "Epoch 1/10 Loss: 0.1223\n"
          ]
        },
        {
          "name": "stderr",
          "output_type": "stream",
          "text": [
            "\n",
            "Seed 3 / 10:  20%|██        | 2/10 [00:10<00:42,  5.32s/it]\u001b[A"
          ]
        },
        {
          "name": "stdout",
          "output_type": "stream",
          "text": [
            "Epoch 2/10 Loss: 0.0756\n"
          ]
        },
        {
          "name": "stderr",
          "output_type": "stream",
          "text": [
            "\n",
            "Seed 3 / 10:  30%|███       | 3/10 [00:15<00:35,  5.11s/it]\u001b[A"
          ]
        },
        {
          "name": "stdout",
          "output_type": "stream",
          "text": [
            "Epoch 3/10 Loss: 0.0609\n"
          ]
        },
        {
          "name": "stderr",
          "output_type": "stream",
          "text": [
            "\n",
            "Seed 3 / 10:  40%|████      | 4/10 [00:20<00:30,  5.11s/it]\u001b[A"
          ]
        },
        {
          "name": "stdout",
          "output_type": "stream",
          "text": [
            "Epoch 4/10 Loss: 0.0451\n"
          ]
        },
        {
          "name": "stderr",
          "output_type": "stream",
          "text": [
            "\n",
            "Seed 3 / 10:  50%|█████     | 5/10 [00:25<00:26,  5.24s/it]\u001b[A"
          ]
        },
        {
          "name": "stdout",
          "output_type": "stream",
          "text": [
            "Epoch 5/10 Loss: 0.0354\n"
          ]
        },
        {
          "name": "stderr",
          "output_type": "stream",
          "text": [
            "\n",
            "Seed 3 / 10:  60%|██████    | 6/10 [00:30<00:20,  5.12s/it]\u001b[A"
          ]
        },
        {
          "name": "stdout",
          "output_type": "stream",
          "text": [
            "Epoch 6/10 Loss: 0.0312\n"
          ]
        },
        {
          "name": "stderr",
          "output_type": "stream",
          "text": [
            "\n",
            "Seed 3 / 10:  70%|███████   | 7/10 [00:36<00:16,  5.34s/it]\u001b[A"
          ]
        },
        {
          "name": "stdout",
          "output_type": "stream",
          "text": [
            "Epoch 7/10 Loss: 0.0284\n"
          ]
        },
        {
          "name": "stderr",
          "output_type": "stream",
          "text": [
            "\n",
            "Seed 3 / 10:  80%|████████  | 8/10 [00:41<00:10,  5.18s/it]\u001b[A"
          ]
        },
        {
          "name": "stdout",
          "output_type": "stream",
          "text": [
            "Epoch 8/10 Loss: 0.0261\n"
          ]
        },
        {
          "name": "stderr",
          "output_type": "stream",
          "text": [
            "\n",
            "Seed 3 / 10:  90%|█████████ | 9/10 [00:46<00:05,  5.22s/it]\u001b[A"
          ]
        },
        {
          "name": "stdout",
          "output_type": "stream",
          "text": [
            "Epoch 9/10 Loss: 0.0242\n"
          ]
        },
        {
          "name": "stderr",
          "output_type": "stream",
          "text": [
            "\n",
            "Seed 3 / 10: 100%|██████████| 10/10 [00:51<00:00,  5.20s/it]\n"
          ]
        },
        {
          "name": "stdout",
          "output_type": "stream",
          "text": [
            "Epoch 10/10 Loss: 0.0228\n"
          ]
        },
        {
          "name": "stderr",
          "output_type": "stream",
          "text": [
            "\n",
            "  0%|          | 0/10 [00:00<?, ?it/s]\u001b[A\n",
            " 10%|█         | 1/10 [00:06<00:59,  6.65s/it]\u001b[A"
          ]
        },
        {
          "name": "stdout",
          "output_type": "stream",
          "text": [
            "Epoch 1/10 Loss: 0.9616\n"
          ]
        },
        {
          "name": "stderr",
          "output_type": "stream",
          "text": [
            "\n",
            " 20%|██        | 2/10 [00:13<00:54,  6.84s/it]\u001b[A"
          ]
        },
        {
          "name": "stdout",
          "output_type": "stream",
          "text": [
            "Epoch 2/10 Loss: 0.5038\n"
          ]
        },
        {
          "name": "stderr",
          "output_type": "stream",
          "text": [
            "\n",
            " 30%|███       | 3/10 [00:21<00:50,  7.19s/it]\u001b[A"
          ]
        },
        {
          "name": "stdout",
          "output_type": "stream",
          "text": [
            "Epoch 3/10 Loss: 0.3464\n"
          ]
        },
        {
          "name": "stderr",
          "output_type": "stream",
          "text": [
            "\n",
            " 40%|████      | 4/10 [00:27<00:40,  6.82s/it]\u001b[A"
          ]
        },
        {
          "name": "stdout",
          "output_type": "stream",
          "text": [
            "Epoch 4/10 Loss: 0.2717\n"
          ]
        },
        {
          "name": "stderr",
          "output_type": "stream",
          "text": [
            "\n",
            " 50%|█████     | 5/10 [00:34<00:34,  6.92s/it]\u001b[A"
          ]
        },
        {
          "name": "stdout",
          "output_type": "stream",
          "text": [
            "Epoch 5/10 Loss: 0.2286\n"
          ]
        },
        {
          "name": "stderr",
          "output_type": "stream",
          "text": [
            "\n",
            " 60%|██████    | 6/10 [00:40<00:26,  6.74s/it]\u001b[A"
          ]
        },
        {
          "name": "stdout",
          "output_type": "stream",
          "text": [
            "Epoch 6/10 Loss: 0.1991\n"
          ]
        },
        {
          "name": "stderr",
          "output_type": "stream",
          "text": [
            "\n",
            " 70%|███████   | 7/10 [00:48<00:20,  6.88s/it]\u001b[A"
          ]
        },
        {
          "name": "stdout",
          "output_type": "stream",
          "text": [
            "Epoch 7/10 Loss: 0.1723\n"
          ]
        },
        {
          "name": "stderr",
          "output_type": "stream",
          "text": [
            "\n",
            " 80%|████████  | 8/10 [00:54<00:13,  6.75s/it]\u001b[A"
          ]
        },
        {
          "name": "stdout",
          "output_type": "stream",
          "text": [
            "Epoch 8/10 Loss: 0.1502\n"
          ]
        },
        {
          "name": "stderr",
          "output_type": "stream",
          "text": [
            "\n",
            " 90%|█████████ | 9/10 [01:01<00:06,  6.88s/it]\u001b[A"
          ]
        },
        {
          "name": "stdout",
          "output_type": "stream",
          "text": [
            "Epoch 9/10 Loss: 0.1394\n"
          ]
        },
        {
          "name": "stderr",
          "output_type": "stream",
          "text": [
            "\n",
            "100%|██████████| 10/10 [01:08<00:00,  6.82s/it]"
          ]
        },
        {
          "name": "stdout",
          "output_type": "stream",
          "text": [
            "Epoch 10/10 Loss: 0.1240\n"
          ]
        },
        {
          "name": "stderr",
          "output_type": "stream",
          "text": [
            "\n",
            "/usr/local/lib/python3.11/dist-packages/sklearn/linear_model/_logistic.py:465: ConvergenceWarning: lbfgs failed to converge (status=1):\n",
            "STOP: TOTAL NO. OF ITERATIONS REACHED LIMIT.\n",
            "\n",
            "Increase the number of iterations (max_iter) or scale the data as shown in:\n",
            "    https://scikit-learn.org/stable/modules/preprocessing.html\n",
            "Please also refer to the documentation for alternative solver options:\n",
            "    https://scikit-learn.org/stable/modules/linear_model.html#logistic-regression\n",
            "  n_iter_i = _check_optimize_result(\n",
            "/usr/local/lib/python3.11/dist-packages/sklearn/linear_model/_logistic.py:465: ConvergenceWarning: lbfgs failed to converge (status=1):\n",
            "STOP: TOTAL NO. OF ITERATIONS REACHED LIMIT.\n",
            "\n",
            "Increase the number of iterations (max_iter) or scale the data as shown in:\n",
            "    https://scikit-learn.org/stable/modules/preprocessing.html\n",
            "Please also refer to the documentation for alternative solver options:\n",
            "    https://scikit-learn.org/stable/modules/linear_model.html#logistic-regression\n",
            "  n_iter_i = _check_optimize_result(\n",
            " 40%|████      | 4/10 [08:45<13:08, 131.46s/it]"
          ]
        },
        {
          "name": "stdout",
          "output_type": "stream",
          "text": [
            "   id   estimator    method  train_err  test_err\n",
            "0   3  regression    biased   0.000022  0.000089\n",
            "1   3         ipw    biased   0.000013  0.000099\n",
            "2   3          dr    biased   0.000015  0.000094\n",
            "3   3  regression     naive   0.000011  0.000153\n",
            "4   3         ipw     naive   0.000008  0.004004\n",
            "5   3          dr     naive   0.000007  0.000671\n",
            "6   3  regression  debiased   0.000019  0.000004\n",
            "7   3         ipw  debiased   0.000010  0.001678\n",
            "8   3          dr  debiased   0.000011  0.000231\n"
          ]
        },
        {
          "data": {
            "image/png": "[encoded data removed]",
            "text/plain": [
              "<Figure size 500x600 with 6 Axes>"
            ]
          },
          "metadata": {},
          "output_type": "display_data"
        },
        {
          "data": {
            "image/png": "[encoded data removed]",
            "text/plain": [
              "<Figure size 500x600 with 6 Axes>"
            ]
          },
          "metadata": {},
          "output_type": "display_data"
        },
        {
          "name": "stderr",
          "output_type": "stream",
          "text": [
            "\n",
            "Seed 4 / 10:   0%|          | 0/10 [00:00<?, ?it/s]\u001b[A\n",
            "Seed 4 / 10:  10%|█         | 1/10 [00:05<00:50,  5.59s/it]\u001b[A"
          ]
        },
        {
          "name": "stdout",
          "output_type": "stream",
          "text": [
            "Epoch 1/10 Loss: 0.1279\n"
          ]
        },
        {
          "name": "stderr",
          "output_type": "stream",
          "text": [
            "\n",
            "Seed 4 / 10:  20%|██        | 2/10 [00:10<00:40,  5.07s/it]\u001b[A"
          ]
        },
        {
          "name": "stdout",
          "output_type": "stream",
          "text": [
            "Epoch 2/10 Loss: 0.0740\n"
          ]
        },
        {
          "name": "stderr",
          "output_type": "stream",
          "text": [
            "\n",
            "Seed 4 / 10:  30%|███       | 3/10 [00:15<00:36,  5.14s/it]\u001b[A"
          ]
        },
        {
          "name": "stdout",
          "output_type": "stream",
          "text": [
            "Epoch 3/10 Loss: 0.0591\n"
          ]
        },
        {
          "name": "stderr",
          "output_type": "stream",
          "text": [
            "\n",
            "Seed 4 / 10:  40%|████      | 4/10 [00:20<00:30,  5.16s/it]\u001b[A"
          ]
        },
        {
          "name": "stdout",
          "output_type": "stream",
          "text": [
            "Epoch 4/10 Loss: 0.0442\n"
          ]
        },
        {
          "name": "stderr",
          "output_type": "stream",
          "text": [
            "\n",
            "Seed 4 / 10:  50%|█████     | 5/10 [00:25<00:25,  5.05s/it]\u001b[A"
          ]
        },
        {
          "name": "stdout",
          "output_type": "stream",
          "text": [
            "Epoch 5/10 Loss: 0.0338\n"
          ]
        },
        {
          "name": "stderr",
          "output_type": "stream",
          "text": [
            "\n",
            "Seed 4 / 10:  60%|██████    | 6/10 [00:31<00:20,  5.22s/it]\u001b[A"
          ]
        },
        {
          "name": "stdout",
          "output_type": "stream",
          "text": [
            "Epoch 6/10 Loss: 0.0297\n"
          ]
        },
        {
          "name": "stderr",
          "output_type": "stream",
          "text": [
            "\n",
            "Seed 4 / 10:  70%|███████   | 7/10 [00:35<00:15,  5.09s/it]\u001b[A"
          ]
        },
        {
          "name": "stdout",
          "output_type": "stream",
          "text": [
            "Epoch 7/10 Loss: 0.0270\n"
          ]
        },
        {
          "name": "stderr",
          "output_type": "stream",
          "text": [
            "\n",
            "Seed 4 / 10:  80%|████████  | 8/10 [00:42<00:10,  5.49s/it]\u001b[A"
          ]
        },
        {
          "name": "stdout",
          "output_type": "stream",
          "text": [
            "Epoch 8/10 Loss: 0.0249\n"
          ]
        },
        {
          "name": "stderr",
          "output_type": "stream",
          "text": [
            "\n",
            "Seed 4 / 10:  90%|█████████ | 9/10 [00:47<00:05,  5.26s/it]\u001b[A"
          ]
        },
        {
          "name": "stdout",
          "output_type": "stream",
          "text": [
            "Epoch 9/10 Loss: 0.0232\n"
          ]
        },
        {
          "name": "stderr",
          "output_type": "stream",
          "text": [
            "\n",
            "Seed 4 / 10: 100%|██████████| 10/10 [00:51<00:00,  5.19s/it]\n"
          ]
        },
        {
          "name": "stdout",
          "output_type": "stream",
          "text": [
            "Epoch 10/10 Loss: 0.0220\n"
          ]
        },
        {
          "name": "stderr",
          "output_type": "stream",
          "text": [
            "\n",
            "  0%|          | 0/10 [00:00<?, ?it/s]\u001b[A\n",
            " 10%|█         | 1/10 [00:07<01:03,  7.11s/it]\u001b[A"
          ]
        },
        {
          "name": "stdout",
          "output_type": "stream",
          "text": [
            "Epoch 1/10 Loss: 0.8995\n"
          ]
        },
        {
          "name": "stderr",
          "output_type": "stream",
          "text": [
            "\n",
            " 20%|██        | 2/10 [00:13<00:54,  6.83s/it]\u001b[A"
          ]
        },
        {
          "name": "stdout",
          "output_type": "stream",
          "text": [
            "Epoch 2/10 Loss: 0.4893\n"
          ]
        },
        {
          "name": "stderr",
          "output_type": "stream",
          "text": [
            "\n",
            " 30%|███       | 3/10 [00:20<00:47,  6.77s/it]\u001b[A"
          ]
        },
        {
          "name": "stdout",
          "output_type": "stream",
          "text": [
            "Epoch 3/10 Loss: 0.3506\n"
          ]
        },
        {
          "name": "stderr",
          "output_type": "stream",
          "text": [
            "\n",
            " 40%|████      | 4/10 [00:27<00:41,  6.87s/it]\u001b[A"
          ]
        },
        {
          "name": "stdout",
          "output_type": "stream",
          "text": [
            "Epoch 4/10 Loss: 0.2838\n"
          ]
        },
        {
          "name": "stderr",
          "output_type": "stream",
          "text": [
            "\n",
            " 50%|█████     | 5/10 [00:33<00:33,  6.69s/it]\u001b[A"
          ]
        },
        {
          "name": "stdout",
          "output_type": "stream",
          "text": [
            "Epoch 5/10 Loss: 0.2433\n"
          ]
        },
        {
          "name": "stderr",
          "output_type": "stream",
          "text": [
            "\n",
            " 60%|██████    | 6/10 [00:40<00:27,  6.82s/it]\u001b[A"
          ]
        },
        {
          "name": "stdout",
          "output_type": "stream",
          "text": [
            "Epoch 6/10 Loss: 0.2178\n"
          ]
        },
        {
          "name": "stderr",
          "output_type": "stream",
          "text": [
            "\n",
            " 70%|███████   | 7/10 [00:47<00:19,  6.66s/it]\u001b[A"
          ]
        },
        {
          "name": "stdout",
          "output_type": "stream",
          "text": [
            "Epoch 7/10 Loss: 0.1920\n"
          ]
        },
        {
          "name": "stderr",
          "output_type": "stream",
          "text": [
            "\n",
            " 80%|████████  | 8/10 [00:54<00:13,  6.78s/it]\u001b[A"
          ]
        },
        {
          "name": "stdout",
          "output_type": "stream",
          "text": [
            "Epoch 8/10 Loss: 0.1684\n"
          ]
        },
        {
          "name": "stderr",
          "output_type": "stream",
          "text": [
            "\n",
            " 90%|█████████ | 9/10 [01:00<00:06,  6.61s/it]\u001b[A"
          ]
        },
        {
          "name": "stdout",
          "output_type": "stream",
          "text": [
            "Epoch 9/10 Loss: 0.1490\n"
          ]
        },
        {
          "name": "stderr",
          "output_type": "stream",
          "text": [
            "\n",
            "100%|██████████| 10/10 [01:07<00:00,  6.76s/it]"
          ]
        },
        {
          "name": "stdout",
          "output_type": "stream",
          "text": [
            "Epoch 10/10 Loss: 0.1320\n"
          ]
        },
        {
          "name": "stderr",
          "output_type": "stream",
          "text": [
            "\n",
            "/usr/local/lib/python3.11/dist-packages/sklearn/linear_model/_logistic.py:465: ConvergenceWarning: lbfgs failed to converge (status=1):\n",
            "STOP: TOTAL NO. OF ITERATIONS REACHED LIMIT.\n",
            "\n",
            "Increase the number of iterations (max_iter) or scale the data as shown in:\n",
            "    https://scikit-learn.org/stable/modules/preprocessing.html\n",
            "Please also refer to the documentation for alternative solver options:\n",
            "    https://scikit-learn.org/stable/modules/linear_model.html#logistic-regression\n",
            "  n_iter_i = _check_optimize_result(\n",
            "/usr/local/lib/python3.11/dist-packages/sklearn/linear_model/_logistic.py:465: ConvergenceWarning: lbfgs failed to converge (status=1):\n",
            "STOP: TOTAL NO. OF ITERATIONS REACHED LIMIT.\n",
            "\n",
            "Increase the number of iterations (max_iter) or scale the data as shown in:\n",
            "    https://scikit-learn.org/stable/modules/preprocessing.html\n",
            "Please also refer to the documentation for alternative solver options:\n",
            "    https://scikit-learn.org/stable/modules/linear_model.html#logistic-regression\n",
            "  n_iter_i = _check_optimize_result(\n",
            " 50%|█████     | 5/10 [10:56<10:56, 131.27s/it]"
          ]
        },
        {
          "name": "stdout",
          "output_type": "stream",
          "text": [
            "   id   estimator    method  train_err  test_err\n",
            "0   4  regression    biased   0.001489  0.001417\n",
            "1   4         ipw    biased   0.001491  0.001429\n",
            "2   4          dr    biased   0.001489  0.001420\n",
            "3   4  regression     naive   0.001511  0.000318\n",
            "4   4         ipw     naive   0.001514  0.005749\n",
            "5   4          dr     naive   0.001516  0.000560\n",
            "6   4  regression  debiased   0.001478  0.000001\n",
            "7   4         ipw  debiased   0.001481  0.000067\n",
            "8   4          dr  debiased   0.001475  0.000065\n"
          ]
        },
        {
          "data": {
            "image/png": "[encoded data removed]",
            "text/plain": [
              "<Figure size 500x600 with 6 Axes>"
            ]
          },
          "metadata": {},
          "output_type": "display_data"
        },
        {
          "data": {
            "image/png": "[encoded data removed]",
            "text/plain": [
              "<Figure size 500x600 with 6 Axes>"
            ]
          },
          "metadata": {},
          "output_type": "display_data"
        },
        {
          "name": "stderr",
          "output_type": "stream",
          "text": [
            "\n",
            "Seed 5 / 10:   0%|          | 0/10 [00:00<?, ?it/s]\u001b[A\n",
            "Seed 5 / 10:  10%|█         | 1/10 [00:05<00:45,  5.00s/it]\u001b[A"
          ]
        },
        {
          "name": "stdout",
          "output_type": "stream",
          "text": [
            "Epoch 1/10 Loss: 0.1143\n"
          ]
        },
        {
          "name": "stderr",
          "output_type": "stream",
          "text": [
            "\n",
            "Seed 5 / 10:  20%|██        | 2/10 [00:10<00:43,  5.43s/it]\u001b[A"
          ]
        },
        {
          "name": "stdout",
          "output_type": "stream",
          "text": [
            "Epoch 2/10 Loss: 0.0749\n"
          ]
        },
        {
          "name": "stderr",
          "output_type": "stream",
          "text": [
            "\n",
            "Seed 5 / 10:  30%|███       | 3/10 [00:15<00:37,  5.35s/it]\u001b[A"
          ]
        },
        {
          "name": "stdout",
          "output_type": "stream",
          "text": [
            "Epoch 3/10 Loss: 0.0571\n"
          ]
        },
        {
          "name": "stderr",
          "output_type": "stream",
          "text": [
            "\n",
            "Seed 5 / 10:  40%|████      | 4/10 [00:21<00:31,  5.25s/it]\u001b[A"
          ]
        },
        {
          "name": "stdout",
          "output_type": "stream",
          "text": [
            "Epoch 4/10 Loss: 0.0409\n"
          ]
        },
        {
          "name": "stderr",
          "output_type": "stream",
          "text": [
            "\n",
            "Seed 5 / 10:  50%|█████     | 5/10 [00:26<00:27,  5.49s/it]\u001b[A"
          ]
        },
        {
          "name": "stdout",
          "output_type": "stream",
          "text": [
            "Epoch 5/10 Loss: 0.0324\n"
          ]
        },
        {
          "name": "stderr",
          "output_type": "stream",
          "text": [
            "\n",
            "Seed 5 / 10:  60%|██████    | 6/10 [00:32<00:21,  5.36s/it]\u001b[A"
          ]
        },
        {
          "name": "stdout",
          "output_type": "stream",
          "text": [
            "Epoch 6/10 Loss: 0.0288\n"
          ]
        },
        {
          "name": "stderr",
          "output_type": "stream",
          "text": [
            "\n",
            "Seed 5 / 10:  70%|███████   | 7/10 [00:38<00:16,  5.54s/it]\u001b[A"
          ]
        },
        {
          "name": "stdout",
          "output_type": "stream",
          "text": [
            "Epoch 7/10 Loss: 0.0261\n"
          ]
        },
        {
          "name": "stderr",
          "output_type": "stream",
          "text": [
            "\n",
            "Seed 5 / 10:  80%|████████  | 8/10 [00:43<00:10,  5.41s/it]\u001b[A"
          ]
        },
        {
          "name": "stdout",
          "output_type": "stream",
          "text": [
            "Epoch 8/10 Loss: 0.0239\n"
          ]
        },
        {
          "name": "stderr",
          "output_type": "stream",
          "text": [
            "\n",
            "Seed 5 / 10:  90%|█████████ | 9/10 [00:49<00:05,  5.55s/it]\u001b[A"
          ]
        },
        {
          "name": "stdout",
          "output_type": "stream",
          "text": [
            "Epoch 9/10 Loss: 0.0223\n"
          ]
        },
        {
          "name": "stderr",
          "output_type": "stream",
          "text": [
            "\n",
            "Seed 5 / 10: 100%|██████████| 10/10 [00:54<00:00,  5.41s/it]\n"
          ]
        },
        {
          "name": "stdout",
          "output_type": "stream",
          "text": [
            "Epoch 10/10 Loss: 0.0210\n"
          ]
        },
        {
          "name": "stderr",
          "output_type": "stream",
          "text": [
            "\n",
            "  0%|          | 0/10 [00:00<?, ?it/s]\u001b[A\n",
            " 10%|█         | 1/10 [00:07<01:04,  7.15s/it]\u001b[A"
          ]
        },
        {
          "name": "stdout",
          "output_type": "stream",
          "text": [
            "Epoch 1/10 Loss: 0.9237\n"
          ]
        },
        {
          "name": "stderr",
          "output_type": "stream",
          "text": [
            "\n",
            " 20%|██        | 2/10 [00:13<00:53,  6.72s/it]\u001b[A"
          ]
        },
        {
          "name": "stdout",
          "output_type": "stream",
          "text": [
            "Epoch 2/10 Loss: 0.4642\n"
          ]
        },
        {
          "name": "stderr",
          "output_type": "stream",
          "text": [
            "\n",
            " 30%|███       | 3/10 [00:20<00:48,  6.97s/it]\u001b[A"
          ]
        },
        {
          "name": "stdout",
          "output_type": "stream",
          "text": [
            "Epoch 3/10 Loss: 0.3390\n"
          ]
        },
        {
          "name": "stderr",
          "output_type": "stream",
          "text": [
            "\n",
            " 40%|████      | 4/10 [00:27<00:40,  6.71s/it]\u001b[A"
          ]
        },
        {
          "name": "stdout",
          "output_type": "stream",
          "text": [
            "Epoch 4/10 Loss: 0.2856\n"
          ]
        },
        {
          "name": "stderr",
          "output_type": "stream",
          "text": [
            "\n",
            " 50%|█████     | 5/10 [00:34<00:34,  6.91s/it]\u001b[A"
          ]
        },
        {
          "name": "stdout",
          "output_type": "stream",
          "text": [
            "Epoch 5/10 Loss: 0.2482\n"
          ]
        },
        {
          "name": "stderr",
          "output_type": "stream",
          "text": [
            "\n",
            " 60%|██████    | 6/10 [00:40<00:27,  6.75s/it]\u001b[A"
          ]
        },
        {
          "name": "stdout",
          "output_type": "stream",
          "text": [
            "Epoch 6/10 Loss: 0.2220\n"
          ]
        },
        {
          "name": "stderr",
          "output_type": "stream",
          "text": [
            "\n",
            " 70%|███████   | 7/10 [00:48<00:20,  6.89s/it]\u001b[A"
          ]
        },
        {
          "name": "stdout",
          "output_type": "stream",
          "text": [
            "Epoch 7/10 Loss: 0.2013\n"
          ]
        },
        {
          "name": "stderr",
          "output_type": "stream",
          "text": [
            "\n",
            " 80%|████████  | 8/10 [00:54<00:13,  6.73s/it]\u001b[A"
          ]
        },
        {
          "name": "stdout",
          "output_type": "stream",
          "text": [
            "Epoch 8/10 Loss: 0.1817\n"
          ]
        },
        {
          "name": "stderr",
          "output_type": "stream",
          "text": [
            "\n",
            " 90%|█████████ | 9/10 [01:01<00:06,  6.86s/it]\u001b[A"
          ]
        },
        {
          "name": "stdout",
          "output_type": "stream",
          "text": [
            "Epoch 9/10 Loss: 0.1522\n"
          ]
        },
        {
          "name": "stderr",
          "output_type": "stream",
          "text": [
            "\n",
            "100%|██████████| 10/10 [01:08<00:00,  6.80s/it]"
          ]
        },
        {
          "name": "stdout",
          "output_type": "stream",
          "text": [
            "Epoch 10/10 Loss: 0.1377\n"
          ]
        },
        {
          "name": "stderr",
          "output_type": "stream",
          "text": [
            "\n",
            "/usr/local/lib/python3.11/dist-packages/sklearn/linear_model/_logistic.py:465: ConvergenceWarning: lbfgs failed to converge (status=1):\n",
            "STOP: TOTAL NO. OF ITERATIONS REACHED LIMIT.\n",
            "\n",
            "Increase the number of iterations (max_iter) or scale the data as shown in:\n",
            "    https://scikit-learn.org/stable/modules/preprocessing.html\n",
            "Please also refer to the documentation for alternative solver options:\n",
            "    https://scikit-learn.org/stable/modules/linear_model.html#logistic-regression\n",
            "  n_iter_i = _check_optimize_result(\n",
            "/usr/local/lib/python3.11/dist-packages/sklearn/linear_model/_logistic.py:465: ConvergenceWarning: lbfgs failed to converge (status=1):\n",
            "STOP: TOTAL NO. OF ITERATIONS REACHED LIMIT.\n",
            "\n",
            "Increase the number of iterations (max_iter) or scale the data as shown in:\n",
            "    https://scikit-learn.org/stable/modules/preprocessing.html\n",
            "Please also refer to the documentation for alternative solver options:\n",
            "    https://scikit-learn.org/stable/modules/linear_model.html#logistic-regression\n",
            "  n_iter_i = _check_optimize_result(\n",
            " 60%|██████    | 6/10 [13:09<08:48, 132.02s/it]"
          ]
        },
        {
          "name": "stdout",
          "output_type": "stream",
          "text": [
            "   id   estimator    method  train_err      test_err\n",
            "0   5  regression    biased   0.001727  1.316893e-03\n",
            "1   5         ipw    biased   0.001732  1.272933e-03\n",
            "2   5          dr    biased   0.001723  1.274589e-03\n",
            "3   5  regression     naive   0.001741  1.327741e-04\n",
            "4   5         ipw     naive   0.001768  2.563981e-04\n",
            "5   5          dr     naive   0.001753  8.538277e-05\n",
            "6   5  regression  debiased   0.001746  6.469706e-05\n",
            "7   5         ipw  debiased   0.001763  7.875463e-04\n",
            "8   5          dr  debiased   0.001739  3.192721e-07\n"
          ]
        },
        {
          "data": {
            "image/png": "[encoded data removed]",
            "text/plain": [
              "<Figure size 500x600 with 6 Axes>"
            ]
          },
          "metadata": {},
          "output_type": "display_data"
        },
        {
          "data": {
            "image/png": "[encoded data removed]",
            "text/plain": [
              "<Figure size 500x600 with 6 Axes>"
            ]
          },
          "metadata": {},
          "output_type": "display_data"
        },
        {
          "name": "stderr",
          "output_type": "stream",
          "text": [
            "\n",
            "Seed 6 / 10:   0%|          | 0/10 [00:00<?, ?it/s]\u001b[A\n",
            "Seed 6 / 10:  10%|█         | 1/10 [00:05<00:52,  5.80s/it]\u001b[A"
          ]
        },
        {
          "name": "stdout",
          "output_type": "stream",
          "text": [
            "Epoch 1/10 Loss: 0.1026\n"
          ]
        },
        {
          "name": "stderr",
          "output_type": "stream",
          "text": [
            "\n",
            "Seed 6 / 10:  20%|██        | 2/10 [00:10<00:42,  5.29s/it]\u001b[A"
          ]
        },
        {
          "name": "stdout",
          "output_type": "stream",
          "text": [
            "Epoch 2/10 Loss: 0.0666\n"
          ]
        },
        {
          "name": "stderr",
          "output_type": "stream",
          "text": [
            "\n",
            "Seed 6 / 10:  30%|███       | 3/10 [00:16<00:38,  5.52s/it]\u001b[A"
          ]
        },
        {
          "name": "stdout",
          "output_type": "stream",
          "text": [
            "Epoch 3/10 Loss: 0.0430\n"
          ]
        },
        {
          "name": "stderr",
          "output_type": "stream",
          "text": [
            "\n",
            "Seed 6 / 10:  40%|████      | 4/10 [00:21<00:31,  5.29s/it]\u001b[A"
          ]
        },
        {
          "name": "stdout",
          "output_type": "stream",
          "text": [
            "Epoch 4/10 Loss: 0.0336\n"
          ]
        },
        {
          "name": "stderr",
          "output_type": "stream",
          "text": [
            "\n",
            "Seed 6 / 10:  50%|█████     | 5/10 [00:26<00:26,  5.25s/it]\u001b[A"
          ]
        },
        {
          "name": "stdout",
          "output_type": "stream",
          "text": [
            "Epoch 5/10 Loss: 0.0294\n"
          ]
        },
        {
          "name": "stderr",
          "output_type": "stream",
          "text": [
            "\n",
            "Seed 6 / 10:  60%|██████    | 6/10 [00:32<00:21,  5.36s/it]\u001b[A"
          ]
        },
        {
          "name": "stdout",
          "output_type": "stream",
          "text": [
            "Epoch 6/10 Loss: 0.0262\n"
          ]
        },
        {
          "name": "stderr",
          "output_type": "stream",
          "text": [
            "\n",
            "Seed 6 / 10:  70%|███████   | 7/10 [00:37<00:15,  5.23s/it]\u001b[A"
          ]
        },
        {
          "name": "stdout",
          "output_type": "stream",
          "text": [
            "Epoch 7/10 Loss: 0.0241\n"
          ]
        },
        {
          "name": "stderr",
          "output_type": "stream",
          "text": [
            "\n",
            "Seed 6 / 10:  80%|████████  | 8/10 [00:42<00:10,  5.41s/it]\u001b[A"
          ]
        },
        {
          "name": "stdout",
          "output_type": "stream",
          "text": [
            "Epoch 8/10 Loss: 0.0225\n"
          ]
        },
        {
          "name": "stderr",
          "output_type": "stream",
          "text": [
            "\n",
            "Seed 6 / 10:  90%|█████████ | 9/10 [00:47<00:05,  5.27s/it]\u001b[A"
          ]
        },
        {
          "name": "stdout",
          "output_type": "stream",
          "text": [
            "Epoch 9/10 Loss: 0.0212\n"
          ]
        },
        {
          "name": "stderr",
          "output_type": "stream",
          "text": [
            "\n",
            "Seed 6 / 10: 100%|██████████| 10/10 [00:53<00:00,  5.38s/it]\n"
          ]
        },
        {
          "name": "stdout",
          "output_type": "stream",
          "text": [
            "Epoch 10/10 Loss: 0.0200\n"
          ]
        },
        {
          "name": "stderr",
          "output_type": "stream",
          "text": [
            "\n",
            "  0%|          | 0/10 [00:00<?, ?it/s]\u001b[A\n",
            " 10%|█         | 1/10 [00:06<00:56,  6.27s/it]\u001b[A"
          ]
        },
        {
          "name": "stdout",
          "output_type": "stream",
          "text": [
            "Epoch 1/10 Loss: 0.9476\n"
          ]
        },
        {
          "name": "stderr",
          "output_type": "stream",
          "text": [
            "\n",
            " 20%|██        | 2/10 [00:13<00:54,  6.77s/it]\u001b[A"
          ]
        },
        {
          "name": "stdout",
          "output_type": "stream",
          "text": [
            "Epoch 2/10 Loss: 0.4716\n"
          ]
        },
        {
          "name": "stderr",
          "output_type": "stream",
          "text": [
            "\n",
            " 30%|███       | 3/10 [00:19<00:46,  6.57s/it]\u001b[A"
          ]
        },
        {
          "name": "stdout",
          "output_type": "stream",
          "text": [
            "Epoch 3/10 Loss: 0.3230\n"
          ]
        },
        {
          "name": "stderr",
          "output_type": "stream",
          "text": [
            "\n",
            " 40%|████      | 4/10 [00:26<00:40,  6.77s/it]\u001b[A"
          ]
        },
        {
          "name": "stdout",
          "output_type": "stream",
          "text": [
            "Epoch 4/10 Loss: 0.2650\n"
          ]
        },
        {
          "name": "stderr",
          "output_type": "stream",
          "text": [
            "\n",
            " 50%|█████     | 5/10 [00:33<00:33,  6.63s/it]\u001b[A"
          ]
        },
        {
          "name": "stdout",
          "output_type": "stream",
          "text": [
            "Epoch 5/10 Loss: 0.2215\n"
          ]
        },
        {
          "name": "stderr",
          "output_type": "stream",
          "text": [
            "\n",
            " 60%|██████    | 6/10 [00:40<00:27,  6.76s/it]\u001b[A"
          ]
        },
        {
          "name": "stdout",
          "output_type": "stream",
          "text": [
            "Epoch 6/10 Loss: 0.1960\n"
          ]
        },
        {
          "name": "stderr",
          "output_type": "stream",
          "text": [
            "\n",
            " 70%|███████   | 7/10 [00:46<00:19,  6.60s/it]\u001b[A"
          ]
        },
        {
          "name": "stdout",
          "output_type": "stream",
          "text": [
            "Epoch 7/10 Loss: 0.1791\n"
          ]
        },
        {
          "name": "stderr",
          "output_type": "stream",
          "text": [
            "\n",
            " 80%|████████  | 8/10 [00:53<00:13,  6.76s/it]\u001b[A"
          ]
        },
        {
          "name": "stdout",
          "output_type": "stream",
          "text": [
            "Epoch 8/10 Loss: 0.1638\n"
          ]
        },
        {
          "name": "stderr",
          "output_type": "stream",
          "text": [
            "\n",
            " 90%|█████████ | 9/10 [00:59<00:06,  6.60s/it]\u001b[A"
          ]
        },
        {
          "name": "stdout",
          "output_type": "stream",
          "text": [
            "Epoch 9/10 Loss: 0.1451\n"
          ]
        },
        {
          "name": "stderr",
          "output_type": "stream",
          "text": [
            "\n",
            "100%|██████████| 10/10 [01:06<00:00,  6.69s/it]"
          ]
        },
        {
          "name": "stdout",
          "output_type": "stream",
          "text": [
            "Epoch 10/10 Loss: 0.1291\n"
          ]
        },
        {
          "name": "stderr",
          "output_type": "stream",
          "text": [
            "\n",
            "/usr/local/lib/python3.11/dist-packages/sklearn/linear_model/_logistic.py:465: ConvergenceWarning: lbfgs failed to converge (status=1):\n",
            "STOP: TOTAL NO. OF ITERATIONS REACHED LIMIT.\n",
            "\n",
            "Increase the number of iterations (max_iter) or scale the data as shown in:\n",
            "    https://scikit-learn.org/stable/modules/preprocessing.html\n",
            "Please also refer to the documentation for alternative solver options:\n",
            "    https://scikit-learn.org/stable/modules/linear_model.html#logistic-regression\n",
            "  n_iter_i = _check_optimize_result(\n",
            "/usr/local/lib/python3.11/dist-packages/sklearn/linear_model/_logistic.py:465: ConvergenceWarning: lbfgs failed to converge (status=1):\n",
            "STOP: TOTAL NO. OF ITERATIONS REACHED LIMIT.\n",
            "\n",
            "Increase the number of iterations (max_iter) or scale the data as shown in:\n",
            "    https://scikit-learn.org/stable/modules/preprocessing.html\n",
            "Please also refer to the documentation for alternative solver options:\n",
            "    https://scikit-learn.org/stable/modules/linear_model.html#logistic-regression\n",
            "  n_iter_i = _check_optimize_result(\n",
            " 70%|███████   | 7/10 [15:22<06:36, 132.03s/it]"
          ]
        },
        {
          "name": "stdout",
          "output_type": "stream",
          "text": [
            "   id   estimator    method  train_err      test_err\n",
            "0   6  regression    biased   0.000512  1.120864e-03\n",
            "1   6         ipw    biased   0.000514  1.159550e-03\n",
            "2   6          dr    biased   0.000505  1.148900e-03\n",
            "3   6  regression     naive   0.000512  1.008223e-04\n",
            "4   6         ipw     naive   0.000490  6.937318e-03\n",
            "5   6          dr     naive   0.000498  7.249855e-04\n",
            "6   6  regression  debiased   0.000542  4.888933e-04\n",
            "7   6         ipw  debiased   0.000532  1.264909e-04\n",
            "8   6          dr  debiased   0.000519  1.876977e-07\n"
          ]
        },
        {
          "data": {
            "image/png": "[encoded data removed]",
            "text/plain": [
              "<Figure size 500x600 with 6 Axes>"
            ]
          },
          "metadata": {},
          "output_type": "display_data"
        },
        {
          "data": {
            "image/png": "[encoded data removed]",
            "text/plain": [
              "<Figure size 500x600 with 6 Axes>"
            ]
          },
          "metadata": {},
          "output_type": "display_data"
        },
        {
          "name": "stderr",
          "output_type": "stream",
          "text": [
            "\n",
            "Seed 7 / 10:   0%|          | 0/10 [00:00<?, ?it/s]\u001b[A\n",
            "Seed 7 / 10:  10%|█         | 1/10 [00:04<00:44,  4.99s/it]\u001b[A"
          ]
        },
        {
          "name": "stdout",
          "output_type": "stream",
          "text": [
            "Epoch 1/10 Loss: 0.1298\n"
          ]
        },
        {
          "name": "stderr",
          "output_type": "stream",
          "text": [
            "\n",
            "Seed 7 / 10:  20%|██        | 2/10 [00:10<00:43,  5.44s/it]\u001b[A"
          ]
        },
        {
          "name": "stdout",
          "output_type": "stream",
          "text": [
            "Epoch 2/10 Loss: 0.0766\n"
          ]
        },
        {
          "name": "stderr",
          "output_type": "stream",
          "text": [
            "\n",
            "Seed 7 / 10:  30%|███       | 3/10 [00:15<00:36,  5.24s/it]\u001b[A"
          ]
        },
        {
          "name": "stdout",
          "output_type": "stream",
          "text": [
            "Epoch 3/10 Loss: 0.0641\n"
          ]
        },
        {
          "name": "stderr",
          "output_type": "stream",
          "text": [
            "\n",
            "Seed 7 / 10:  40%|████      | 4/10 [00:21<00:32,  5.43s/it]\u001b[A"
          ]
        },
        {
          "name": "stdout",
          "output_type": "stream",
          "text": [
            "Epoch 4/10 Loss: 0.0502\n"
          ]
        },
        {
          "name": "stderr",
          "output_type": "stream",
          "text": [
            "\n",
            "Seed 7 / 10:  50%|█████     | 5/10 [00:26<00:26,  5.26s/it]\u001b[A"
          ]
        },
        {
          "name": "stdout",
          "output_type": "stream",
          "text": [
            "Epoch 5/10 Loss: 0.0386\n"
          ]
        },
        {
          "name": "stderr",
          "output_type": "stream",
          "text": [
            "\n",
            "Seed 7 / 10:  60%|██████    | 6/10 [00:31<00:20,  5.14s/it]\u001b[A"
          ]
        },
        {
          "name": "stdout",
          "output_type": "stream",
          "text": [
            "Epoch 6/10 Loss: 0.0324\n"
          ]
        },
        {
          "name": "stderr",
          "output_type": "stream",
          "text": [
            "\n",
            "Seed 7 / 10:  70%|███████   | 7/10 [00:37<00:16,  5.47s/it]\u001b[A"
          ]
        },
        {
          "name": "stdout",
          "output_type": "stream",
          "text": [
            "Epoch 7/10 Loss: 0.0291\n"
          ]
        },
        {
          "name": "stderr",
          "output_type": "stream",
          "text": [
            "\n",
            "Seed 7 / 10:  80%|████████  | 8/10 [00:42<00:10,  5.32s/it]\u001b[A"
          ]
        },
        {
          "name": "stdout",
          "output_type": "stream",
          "text": [
            "Epoch 8/10 Loss: 0.0265\n"
          ]
        },
        {
          "name": "stderr",
          "output_type": "stream",
          "text": [
            "\n",
            "Seed 7 / 10:  90%|█████████ | 9/10 [00:48<00:05,  5.49s/it]\u001b[A"
          ]
        },
        {
          "name": "stdout",
          "output_type": "stream",
          "text": [
            "Epoch 9/10 Loss: 0.0245\n"
          ]
        },
        {
          "name": "stderr",
          "output_type": "stream",
          "text": [
            "\n",
            "Seed 7 / 10: 100%|██████████| 10/10 [00:53<00:00,  5.32s/it]\n"
          ]
        },
        {
          "name": "stdout",
          "output_type": "stream",
          "text": [
            "Epoch 10/10 Loss: 0.0229\n"
          ]
        },
        {
          "name": "stderr",
          "output_type": "stream",
          "text": [
            "\n",
            "  0%|          | 0/10 [00:00<?, ?it/s]\u001b[A\n",
            " 10%|█         | 1/10 [00:07<01:05,  7.23s/it]\u001b[A"
          ]
        },
        {
          "name": "stdout",
          "output_type": "stream",
          "text": [
            "Epoch 1/10 Loss: 0.9359\n"
          ]
        },
        {
          "name": "stderr",
          "output_type": "stream",
          "text": [
            "\n",
            " 20%|██        | 2/10 [00:13<00:53,  6.63s/it]\u001b[A"
          ]
        },
        {
          "name": "stdout",
          "output_type": "stream",
          "text": [
            "Epoch 2/10 Loss: 0.5349\n"
          ]
        },
        {
          "name": "stderr",
          "output_type": "stream",
          "text": [
            "\n",
            " 30%|███       | 3/10 [00:20<00:48,  6.86s/it]\u001b[A"
          ]
        },
        {
          "name": "stdout",
          "output_type": "stream",
          "text": [
            "Epoch 3/10 Loss: 0.3642\n"
          ]
        },
        {
          "name": "stderr",
          "output_type": "stream",
          "text": [
            "\n",
            " 40%|████      | 4/10 [00:26<00:39,  6.66s/it]\u001b[A"
          ]
        },
        {
          "name": "stdout",
          "output_type": "stream",
          "text": [
            "Epoch 4/10 Loss: 0.2928\n"
          ]
        },
        {
          "name": "stderr",
          "output_type": "stream",
          "text": [
            "\n",
            " 50%|█████     | 5/10 [00:34<00:34,  6.83s/it]\u001b[A"
          ]
        },
        {
          "name": "stdout",
          "output_type": "stream",
          "text": [
            "Epoch 5/10 Loss: 0.2460\n"
          ]
        },
        {
          "name": "stderr",
          "output_type": "stream",
          "text": [
            "\n",
            " 60%|██████    | 6/10 [00:40<00:26,  6.66s/it]\u001b[A"
          ]
        },
        {
          "name": "stdout",
          "output_type": "stream",
          "text": [
            "Epoch 6/10 Loss: 0.2193\n"
          ]
        },
        {
          "name": "stderr",
          "output_type": "stream",
          "text": [
            "\n",
            " 70%|███████   | 7/10 [00:47<00:20,  6.82s/it]\u001b[A"
          ]
        },
        {
          "name": "stdout",
          "output_type": "stream",
          "text": [
            "Epoch 7/10 Loss: 0.2004\n"
          ]
        },
        {
          "name": "stderr",
          "output_type": "stream",
          "text": [
            "\n",
            " 80%|████████  | 8/10 [00:54<00:13,  6.73s/it]\u001b[A"
          ]
        },
        {
          "name": "stdout",
          "output_type": "stream",
          "text": [
            "Epoch 8/10 Loss: 0.1832\n"
          ]
        },
        {
          "name": "stderr",
          "output_type": "stream",
          "text": [
            "\n",
            " 90%|█████████ | 9/10 [01:01<00:06,  6.81s/it]\u001b[A"
          ]
        },
        {
          "name": "stdout",
          "output_type": "stream",
          "text": [
            "Epoch 9/10 Loss: 0.1603\n"
          ]
        },
        {
          "name": "stderr",
          "output_type": "stream",
          "text": [
            "\n",
            "100%|██████████| 10/10 [01:07<00:00,  6.79s/it]"
          ]
        },
        {
          "name": "stdout",
          "output_type": "stream",
          "text": [
            "Epoch 10/10 Loss: 0.1505\n"
          ]
        },
        {
          "name": "stderr",
          "output_type": "stream",
          "text": [
            "\n",
            "/usr/local/lib/python3.11/dist-packages/sklearn/linear_model/_logistic.py:465: ConvergenceWarning: lbfgs failed to converge (status=1):\n",
            "STOP: TOTAL NO. OF ITERATIONS REACHED LIMIT.\n",
            "\n",
            "Increase the number of iterations (max_iter) or scale the data as shown in:\n",
            "    https://scikit-learn.org/stable/modules/preprocessing.html\n",
            "Please also refer to the documentation for alternative solver options:\n",
            "    https://scikit-learn.org/stable/modules/linear_model.html#logistic-regression\n",
            "  n_iter_i = _check_optimize_result(\n",
            "/usr/local/lib/python3.11/dist-packages/sklearn/linear_model/_logistic.py:465: ConvergenceWarning: lbfgs failed to converge (status=1):\n",
            "STOP: TOTAL NO. OF ITERATIONS REACHED LIMIT.\n",
            "\n",
            "Increase the number of iterations (max_iter) or scale the data as shown in:\n",
            "    https://scikit-learn.org/stable/modules/preprocessing.html\n",
            "Please also refer to the documentation for alternative solver options:\n",
            "    https://scikit-learn.org/stable/modules/linear_model.html#logistic-regression\n",
            "  n_iter_i = _check_optimize_result(\n",
            " 80%|████████  | 8/10 [17:34<04:24, 132.08s/it]"
          ]
        },
        {
          "name": "stdout",
          "output_type": "stream",
          "text": [
            "   id   estimator    method  train_err  test_err\n",
            "0   7  regression    biased   0.000997  0.000082\n",
            "1   7         ipw    biased   0.000947  0.000079\n",
            "2   7          dr    biased   0.000936  0.000074\n",
            "3   7  regression     naive   0.000940  0.000097\n",
            "4   7         ipw     naive   0.000857  0.002114\n",
            "5   7          dr     naive   0.000869  0.000019\n",
            "6   7  regression  debiased   0.001029  0.000014\n",
            "7   7         ipw  debiased   0.000962  0.004748\n",
            "8   7          dr  debiased   0.000960  0.000061\n"
          ]
        },
        {
          "data": {
            "image/png": "[encoded data removed]",
            "text/plain": [
              "<Figure size 500x600 with 6 Axes>"
            ]
          },
          "metadata": {},
          "output_type": "display_data"
        },
        {
          "data": {
            "image/png": "[encoded data removed]",
            "text/plain": [
              "<Figure size 500x600 with 6 Axes>"
            ]
          },
          "metadata": {},
          "output_type": "display_data"
        },
        {
          "name": "stderr",
          "output_type": "stream",
          "text": [
            "\n",
            "Seed 8 / 10:   0%|          | 0/10 [00:00<?, ?it/s]\u001b[A\n",
            "Seed 8 / 10:  10%|█         | 1/10 [00:05<00:51,  5.76s/it]\u001b[A"
          ]
        },
        {
          "name": "stdout",
          "output_type": "stream",
          "text": [
            "Epoch 1/10 Loss: 0.1327\n"
          ]
        },
        {
          "name": "stderr",
          "output_type": "stream",
          "text": [
            "\n",
            "Seed 8 / 10:  20%|██        | 2/10 [00:10<00:42,  5.30s/it]\u001b[A"
          ]
        },
        {
          "name": "stdout",
          "output_type": "stream",
          "text": [
            "Epoch 2/10 Loss: 0.0765\n"
          ]
        },
        {
          "name": "stderr",
          "output_type": "stream",
          "text": [
            "\n",
            "Seed 8 / 10:  30%|███       | 3/10 [00:16<00:38,  5.51s/it]\u001b[A"
          ]
        },
        {
          "name": "stdout",
          "output_type": "stream",
          "text": [
            "Epoch 3/10 Loss: 0.0648\n"
          ]
        },
        {
          "name": "stderr",
          "output_type": "stream",
          "text": [
            "\n",
            "Seed 8 / 10:  40%|████      | 4/10 [00:21<00:31,  5.32s/it]\u001b[A"
          ]
        },
        {
          "name": "stdout",
          "output_type": "stream",
          "text": [
            "Epoch 4/10 Loss: 0.0512\n"
          ]
        },
        {
          "name": "stderr",
          "output_type": "stream",
          "text": [
            "\n",
            "Seed 8 / 10:  50%|█████     | 5/10 [00:27<00:27,  5.41s/it]\u001b[A"
          ]
        },
        {
          "name": "stdout",
          "output_type": "stream",
          "text": [
            "Epoch 5/10 Loss: 0.0388\n"
          ]
        },
        {
          "name": "stderr",
          "output_type": "stream",
          "text": [
            "\n",
            "Seed 8 / 10:  60%|██████    | 6/10 [00:32<00:21,  5.33s/it]\u001b[A"
          ]
        },
        {
          "name": "stdout",
          "output_type": "stream",
          "text": [
            "Epoch 6/10 Loss: 0.0327\n"
          ]
        },
        {
          "name": "stderr",
          "output_type": "stream",
          "text": [
            "\n",
            "Seed 8 / 10:  70%|███████   | 7/10 [00:37<00:15,  5.21s/it]\u001b[A"
          ]
        },
        {
          "name": "stdout",
          "output_type": "stream",
          "text": [
            "Epoch 7/10 Loss: 0.0295\n"
          ]
        },
        {
          "name": "stderr",
          "output_type": "stream",
          "text": [
            "\n",
            "Seed 8 / 10:  80%|████████  | 8/10 [00:42<00:10,  5.38s/it]\u001b[A"
          ]
        },
        {
          "name": "stdout",
          "output_type": "stream",
          "text": [
            "Epoch 8/10 Loss: 0.0271\n"
          ]
        },
        {
          "name": "stderr",
          "output_type": "stream",
          "text": [
            "\n",
            "Seed 8 / 10:  90%|█████████ | 9/10 [00:47<00:05,  5.26s/it]\u001b[A"
          ]
        },
        {
          "name": "stdout",
          "output_type": "stream",
          "text": [
            "Epoch 9/10 Loss: 0.0251\n"
          ]
        },
        {
          "name": "stderr",
          "output_type": "stream",
          "text": [
            "\n",
            "Seed 8 / 10: 100%|██████████| 10/10 [00:53<00:00,  5.37s/it]\n"
          ]
        },
        {
          "name": "stdout",
          "output_type": "stream",
          "text": [
            "Epoch 10/10 Loss: 0.0237\n"
          ]
        },
        {
          "name": "stderr",
          "output_type": "stream",
          "text": [
            "\n",
            "  0%|          | 0/10 [00:00<?, ?it/s]\u001b[A\n",
            " 10%|█         | 1/10 [00:06<00:56,  6.30s/it]\u001b[A"
          ]
        },
        {
          "name": "stdout",
          "output_type": "stream",
          "text": [
            "Epoch 1/10 Loss: 0.9293\n"
          ]
        },
        {
          "name": "stderr",
          "output_type": "stream",
          "text": [
            "\n",
            " 20%|██        | 2/10 [00:13<00:54,  6.80s/it]\u001b[A"
          ]
        },
        {
          "name": "stdout",
          "output_type": "stream",
          "text": [
            "Epoch 2/10 Loss: 0.5146\n"
          ]
        },
        {
          "name": "stderr",
          "output_type": "stream",
          "text": [
            "\n",
            " 30%|███       | 3/10 [00:19<00:45,  6.56s/it]\u001b[A"
          ]
        },
        {
          "name": "stdout",
          "output_type": "stream",
          "text": [
            "Epoch 3/10 Loss: 0.3535\n"
          ]
        },
        {
          "name": "stderr",
          "output_type": "stream",
          "text": [
            "\n",
            " 40%|████      | 4/10 [00:26<00:40,  6.79s/it]\u001b[A"
          ]
        },
        {
          "name": "stdout",
          "output_type": "stream",
          "text": [
            "Epoch 4/10 Loss: 0.2848\n"
          ]
        },
        {
          "name": "stderr",
          "output_type": "stream",
          "text": [
            "\n",
            " 50%|█████     | 5/10 [00:33<00:32,  6.60s/it]\u001b[A"
          ]
        },
        {
          "name": "stdout",
          "output_type": "stream",
          "text": [
            "Epoch 5/10 Loss: 0.2396\n"
          ]
        },
        {
          "name": "stderr",
          "output_type": "stream",
          "text": [
            "\n",
            " 60%|██████    | 6/10 [00:40<00:26,  6.72s/it]\u001b[A"
          ]
        },
        {
          "name": "stdout",
          "output_type": "stream",
          "text": [
            "Epoch 6/10 Loss: 0.2079\n"
          ]
        },
        {
          "name": "stderr",
          "output_type": "stream",
          "text": [
            "\n",
            " 70%|███████   | 7/10 [00:46<00:19,  6.59s/it]\u001b[A"
          ]
        },
        {
          "name": "stdout",
          "output_type": "stream",
          "text": [
            "Epoch 7/10 Loss: 0.1804\n"
          ]
        },
        {
          "name": "stderr",
          "output_type": "stream",
          "text": [
            "\n",
            " 80%|████████  | 8/10 [00:53<00:13,  6.75s/it]\u001b[A"
          ]
        },
        {
          "name": "stdout",
          "output_type": "stream",
          "text": [
            "Epoch 8/10 Loss: 0.1584\n"
          ]
        },
        {
          "name": "stderr",
          "output_type": "stream",
          "text": [
            "\n",
            " 90%|█████████ | 9/10 [01:00<00:06,  6.69s/it]\u001b[A"
          ]
        },
        {
          "name": "stdout",
          "output_type": "stream",
          "text": [
            "Epoch 9/10 Loss: 0.1377\n"
          ]
        },
        {
          "name": "stderr",
          "output_type": "stream",
          "text": [
            "\n",
            "100%|██████████| 10/10 [01:06<00:00,  6.68s/it]"
          ]
        },
        {
          "name": "stdout",
          "output_type": "stream",
          "text": [
            "Epoch 10/10 Loss: 0.1217\n"
          ]
        },
        {
          "name": "stderr",
          "output_type": "stream",
          "text": [
            "\n",
            "/usr/local/lib/python3.11/dist-packages/sklearn/linear_model/_logistic.py:465: ConvergenceWarning: lbfgs failed to converge (status=1):\n",
            "STOP: TOTAL NO. OF ITERATIONS REACHED LIMIT.\n",
            "\n",
            "Increase the number of iterations (max_iter) or scale the data as shown in:\n",
            "    https://scikit-learn.org/stable/modules/preprocessing.html\n",
            "Please also refer to the documentation for alternative solver options:\n",
            "    https://scikit-learn.org/stable/modules/linear_model.html#logistic-regression\n",
            "  n_iter_i = _check_optimize_result(\n",
            "/usr/local/lib/python3.11/dist-packages/sklearn/linear_model/_logistic.py:465: ConvergenceWarning: lbfgs failed to converge (status=1):\n",
            "STOP: TOTAL NO. OF ITERATIONS REACHED LIMIT.\n",
            "\n",
            "Increase the number of iterations (max_iter) or scale the data as shown in:\n",
            "    https://scikit-learn.org/stable/modules/preprocessing.html\n",
            "Please also refer to the documentation for alternative solver options:\n",
            "    https://scikit-learn.org/stable/modules/linear_model.html#logistic-regression\n",
            "  n_iter_i = _check_optimize_result(\n",
            " 90%|█████████ | 9/10 [19:46<02:12, 132.05s/it]"
          ]
        },
        {
          "name": "stdout",
          "output_type": "stream",
          "text": [
            "   id   estimator    method  train_err  test_err\n",
            "0   8  regression    biased   0.000314  0.000038\n",
            "1   8         ipw    biased   0.000326  0.000041\n",
            "2   8          dr    biased   0.000331  0.000039\n",
            "3   8  regression     naive   0.000303  0.000204\n",
            "4   8         ipw     naive   0.000336  0.002758\n",
            "5   8          dr     naive   0.000324  0.000348\n",
            "6   8  regression  debiased   0.000277  0.004519\n",
            "7   8         ipw  debiased   0.000262  0.001428\n",
            "8   8          dr  debiased   0.000274  0.000085\n"
          ]
        },
        {
          "data": {
            "image/png": "[encoded data removed]",
            "text/plain": [
              "<Figure size 500x600 with 6 Axes>"
            ]
          },
          "metadata": {},
          "output_type": "display_data"
        },
        {
          "data": {
            "image/png": "[encoded data removed]",
            "text/plain": [
              "<Figure size 500x600 with 6 Axes>"
            ]
          },
          "metadata": {},
          "output_type": "display_data"
        },
        {
          "name": "stderr",
          "output_type": "stream",
          "text": [
            "\n",
            "Seed 9 / 10:   0%|          | 0/10 [00:00<?, ?it/s]\u001b[A\n",
            "Seed 9 / 10:  10%|█         | 1/10 [00:04<00:43,  4.79s/it]\u001b[A"
          ]
        },
        {
          "name": "stdout",
          "output_type": "stream",
          "text": [
            "Epoch 1/10 Loss: 0.1107\n"
          ]
        },
        {
          "name": "stderr",
          "output_type": "stream",
          "text": [
            "\n",
            "Seed 9 / 10:  20%|██        | 2/10 [00:10<00:42,  5.28s/it]\u001b[A"
          ]
        },
        {
          "name": "stdout",
          "output_type": "stream",
          "text": [
            "Epoch 2/10 Loss: 0.0731\n"
          ]
        },
        {
          "name": "stderr",
          "output_type": "stream",
          "text": [
            "\n",
            "Seed 9 / 10:  30%|███       | 3/10 [00:15<00:35,  5.06s/it]\u001b[A"
          ]
        },
        {
          "name": "stdout",
          "output_type": "stream",
          "text": [
            "Epoch 3/10 Loss: 0.0584\n"
          ]
        },
        {
          "name": "stderr",
          "output_type": "stream",
          "text": [
            "\n",
            "Seed 9 / 10:  40%|████      | 4/10 [00:20<00:31,  5.21s/it]\u001b[A"
          ]
        },
        {
          "name": "stdout",
          "output_type": "stream",
          "text": [
            "Epoch 4/10 Loss: 0.0432\n"
          ]
        },
        {
          "name": "stderr",
          "output_type": "stream",
          "text": [
            "\n",
            "Seed 9 / 10:  50%|█████     | 5/10 [00:25<00:25,  5.14s/it]\u001b[A"
          ]
        },
        {
          "name": "stdout",
          "output_type": "stream",
          "text": [
            "Epoch 5/10 Loss: 0.0342\n"
          ]
        },
        {
          "name": "stderr",
          "output_type": "stream",
          "text": [
            "\n",
            "Seed 9 / 10:  60%|██████    | 6/10 [00:30<00:20,  5.04s/it]\u001b[A"
          ]
        },
        {
          "name": "stdout",
          "output_type": "stream",
          "text": [
            "Epoch 6/10 Loss: 0.0304\n"
          ]
        },
        {
          "name": "stderr",
          "output_type": "stream",
          "text": [
            "\n",
            "Seed 9 / 10:  70%|███████   | 7/10 [00:36<00:15,  5.21s/it]\u001b[A"
          ]
        },
        {
          "name": "stdout",
          "output_type": "stream",
          "text": [
            "Epoch 7/10 Loss: 0.0276\n"
          ]
        },
        {
          "name": "stderr",
          "output_type": "stream",
          "text": [
            "\n",
            "Seed 9 / 10:  80%|████████  | 8/10 [00:40<00:10,  5.08s/it]\u001b[A"
          ]
        },
        {
          "name": "stdout",
          "output_type": "stream",
          "text": [
            "Epoch 8/10 Loss: 0.0253\n"
          ]
        },
        {
          "name": "stderr",
          "output_type": "stream",
          "text": [
            "\n",
            "Seed 9 / 10:  90%|█████████ | 9/10 [00:46<00:05,  5.22s/it]\u001b[A"
          ]
        },
        {
          "name": "stdout",
          "output_type": "stream",
          "text": [
            "Epoch 9/10 Loss: 0.0234\n"
          ]
        },
        {
          "name": "stderr",
          "output_type": "stream",
          "text": [
            "\n",
            "Seed 9 / 10: 100%|██████████| 10/10 [00:51<00:00,  5.12s/it]\n"
          ]
        },
        {
          "name": "stdout",
          "output_type": "stream",
          "text": [
            "Epoch 10/10 Loss: 0.0220\n"
          ]
        },
        {
          "name": "stderr",
          "output_type": "stream",
          "text": [
            "\n",
            "  0%|          | 0/10 [00:00<?, ?it/s]\u001b[A\n",
            " 10%|█         | 1/10 [00:06<01:02,  6.96s/it]\u001b[A"
          ]
        },
        {
          "name": "stdout",
          "output_type": "stream",
          "text": [
            "Epoch 1/10 Loss: 0.9661\n"
          ]
        },
        {
          "name": "stderr",
          "output_type": "stream",
          "text": [
            "\n",
            " 20%|██        | 2/10 [00:13<00:53,  6.66s/it]\u001b[A"
          ]
        },
        {
          "name": "stdout",
          "output_type": "stream",
          "text": [
            "Epoch 2/10 Loss: 0.5221\n"
          ]
        },
        {
          "name": "stderr",
          "output_type": "stream",
          "text": [
            "\n",
            " 30%|███       | 3/10 [00:20<00:47,  6.86s/it]\u001b[A"
          ]
        },
        {
          "name": "stdout",
          "output_type": "stream",
          "text": [
            "Epoch 3/10 Loss: 0.3548\n"
          ]
        },
        {
          "name": "stderr",
          "output_type": "stream",
          "text": [
            "\n",
            " 40%|████      | 4/10 [00:26<00:39,  6.64s/it]\u001b[A"
          ]
        },
        {
          "name": "stdout",
          "output_type": "stream",
          "text": [
            "Epoch 4/10 Loss: 0.2851\n"
          ]
        },
        {
          "name": "stderr",
          "output_type": "stream",
          "text": [
            "\n",
            " 50%|█████     | 5/10 [00:33<00:34,  6.81s/it]\u001b[A"
          ]
        },
        {
          "name": "stdout",
          "output_type": "stream",
          "text": [
            "Epoch 5/10 Loss: 0.2419\n"
          ]
        },
        {
          "name": "stderr",
          "output_type": "stream",
          "text": [
            "\n",
            " 60%|██████    | 6/10 [00:40<00:26,  6.64s/it]\u001b[A"
          ]
        },
        {
          "name": "stdout",
          "output_type": "stream",
          "text": [
            "Epoch 6/10 Loss: 0.2136\n"
          ]
        },
        {
          "name": "stderr",
          "output_type": "stream",
          "text": [
            "\n",
            " 70%|███████   | 7/10 [00:47<00:20,  6.82s/it]\u001b[A"
          ]
        },
        {
          "name": "stdout",
          "output_type": "stream",
          "text": [
            "Epoch 7/10 Loss: 0.1806\n"
          ]
        },
        {
          "name": "stderr",
          "output_type": "stream",
          "text": [
            "\n",
            " 80%|████████  | 8/10 [00:53<00:13,  6.64s/it]\u001b[A"
          ]
        },
        {
          "name": "stdout",
          "output_type": "stream",
          "text": [
            "Epoch 8/10 Loss: 0.1656\n"
          ]
        },
        {
          "name": "stderr",
          "output_type": "stream",
          "text": [
            "\n",
            " 90%|█████████ | 9/10 [01:00<00:06,  6.78s/it]\u001b[A"
          ]
        },
        {
          "name": "stdout",
          "output_type": "stream",
          "text": [
            "Epoch 9/10 Loss: 0.1452\n"
          ]
        },
        {
          "name": "stderr",
          "output_type": "stream",
          "text": [
            "\n",
            "100%|██████████| 10/10 [01:06<00:00,  6.70s/it]"
          ]
        },
        {
          "name": "stdout",
          "output_type": "stream",
          "text": [
            "Epoch 10/10 Loss: 0.1304\n"
          ]
        },
        {
          "name": "stderr",
          "output_type": "stream",
          "text": [
            "\n",
            "/usr/local/lib/python3.11/dist-packages/sklearn/linear_model/_logistic.py:465: ConvergenceWarning: lbfgs failed to converge (status=1):\n",
            "STOP: TOTAL NO. OF ITERATIONS REACHED LIMIT.\n",
            "\n",
            "Increase the number of iterations (max_iter) or scale the data as shown in:\n",
            "    https://scikit-learn.org/stable/modules/preprocessing.html\n",
            "Please also refer to the documentation for alternative solver options:\n",
            "    https://scikit-learn.org/stable/modules/linear_model.html#logistic-regression\n",
            "  n_iter_i = _check_optimize_result(\n",
            "/usr/local/lib/python3.11/dist-packages/sklearn/linear_model/_logistic.py:465: ConvergenceWarning: lbfgs failed to converge (status=1):\n",
            "STOP: TOTAL NO. OF ITERATIONS REACHED LIMIT.\n",
            "\n",
            "Increase the number of iterations (max_iter) or scale the data as shown in:\n",
            "    https://scikit-learn.org/stable/modules/preprocessing.html\n",
            "Please also refer to the documentation for alternative solver options:\n",
            "    https://scikit-learn.org/stable/modules/linear_model.html#logistic-regression\n",
            "  n_iter_i = _check_optimize_result(\n",
            "100%|██████████| 10/10 [21:55<00:00, 131.58s/it]"
          ]
        },
        {
          "name": "stdout",
          "output_type": "stream",
          "text": [
            "   id   estimator    method  train_err  test_err\n",
            "0   9  regression    biased   0.000395  0.000311\n",
            "1   9         ipw    biased   0.000408  0.000340\n",
            "2   9          dr    biased   0.000400  0.000330\n",
            "3   9  regression     naive   0.000380  0.000358\n",
            "4   9         ipw     naive   0.000393  0.003257\n",
            "5   9          dr     naive   0.000386  0.000235\n",
            "6   9  regression  debiased   0.000417  0.000636\n",
            "7   9         ipw  debiased   0.000427  0.000529\n",
            "8   9          dr  debiased   0.000418  0.000058\n"
          ]
        },
        {
          "name": "stderr",
          "output_type": "stream",
          "text": [
            "\n"
          ]
        }
      ],
      "source": [
        "for seed in tqdm(range(num_seeds)):\n",
        "    # Generate the training and test dataset for causal inference\n",
        "    training_dataset_ci = dataset_ci.generate_dataset(trainig_sample_size, train = True)\n",
        "    test_dataset_ci = dataset_ci.generate_dataset(test_sample_size, train = False)\n",
        "\n",
        "    # Visualize the training and test dataset for causal inference \n",
        "    # Left: original FashionMNIST images\n",
        "    # Right: image included in the dataset, which includes the post-treatment variables' components\n",
        "    if config.display_image:\n",
        "        visualize_dataset(training_dataset_ci, max_size=3)\n",
        "        visualize_dataset(test_dataset_ci, max_size=3)\n",
        "\n",
        "    # Create the observed dataset for causal inference\n",
        "    observed_train_dataset_ci = ObservedDataset(training_dataset_ci[\"covariate\"], training_dataset_ci[\"treatment\"], training_dataset_ci[\"post_treatment_image_dataset\"], training_dataset_ci[\"outcome\"])\n",
        "    observed_test_dataset_ci = ObservedDataset(test_dataset_ci[\"covariate\"], test_dataset_ci[\"treatment\"], test_dataset_ci[\"post_treatment_image_dataset\"], test_dataset_ci[\"outcome\"])\n",
        "\n",
        "    # Create the data loader for causal inference\n",
        "    train_loader_ci = DataLoader(observed_train_dataset_ci, batch_size=batch_size_causal_embedding, shuffle=True)\n",
        "    test_loader_ci  = DataLoader(observed_test_dataset_ci , batch_size=batch_size_causal_embedding, shuffle=False)\n",
        "\n",
        "    # Train the naive embedding net\n",
        "    naive_embedding_net = NaiveEmbeddingNet(dim_covariate, dim_covariate_image_embed_naive, dim_post_treatment_embed)\n",
        "    optimizer_naive_embed = torch.optim.Adam(naive_embedding_net.parameters(), lr=lr_embed, weight_decay=weight_decay_embed)\n",
        "    mse_loss_naive = nn.MSELoss()\n",
        "\n",
        "    for epoch in tqdm(range(epochs_embed), desc=f\"Seed {seed} / {num_seeds}\"):\n",
        "        naive_embedding_net.train()\n",
        "        loss_each_epoch = 0.0\n",
        "        for batch in train_loader_ci:\n",
        "            x, d, v, y = batch\n",
        "            x_v, hat_v = naive_embedding_net(x, d, v, y)\n",
        "            optimizer_naive_embed.zero_grad()\n",
        "            loss_v = mse_loss_naive(hat_v, v)\n",
        "            loss = loss_v\n",
        "            loss.backward()\n",
        "            optimizer_naive_embed.step()\n",
        "            loss_each_epoch += loss.item() * x.size(0)\n",
        "        if config.print_loss:\n",
        "            print(f\"Epoch {epoch+1}/{epochs_embed} Loss: {loss_each_epoch/len(train_loader_ci.dataset):.4f}\")\n",
        "\n",
        "    # Train the debiased embedding net\n",
        "    debiased_embedding_net = DebiasedEmbeddingNet(dim_covariate, dim_covariate_image_embed, dim_post_treatment_embed)\n",
        "    optimizer_embed = torch.optim.Adam(debiased_embedding_net.parameters(), lr=lr_embed, weight_decay=weight_decay_embed)\n",
        "    mse_loss = nn.MSELoss()\n",
        "    bce_loss = nn.BCELoss()\n",
        "\n",
        "    for epoch in tqdm(range(epochs_embed)):\n",
        "        debiased_embedding_net.train()\n",
        "        loss_each_epoch = 0.0\n",
        "        for batch in train_loader_ci:\n",
        "            x, d, v, y = batch\n",
        "            x_v, p_v, hat_p_v, hat_d, hat_y, hat_v = debiased_embedding_net(x, d, v, y)\n",
        "            optimizer_embed.zero_grad()\n",
        "            loss_v = mse_loss(hat_v, v)\n",
        "            loss_d = bce_loss(hat_d, d)\n",
        "            loss_p = mse_loss(hat_p_v, p_v)\n",
        "            loss_y = mse_loss(hat_y, y)\n",
        "            loss = loss_v + loss_d + loss_p + loss_y\n",
        "            loss.backward()\n",
        "            optimizer_embed.step()\n",
        "            loss_each_epoch += loss.item() * x.size(0)\n",
        "        if config.print_loss:\n",
        "            print(f\"Epoch {epoch+1}/{epochs_embed} Loss: {loss_each_epoch/len(train_loader_ci.dataset):.4f}\")\n",
        "\n",
        "\n",
        "    # Define the function to compute the embeddings given a dataloader and a model\n",
        "    def compute_embeddings(dataloader, model, dim_covariate_image_embed):\n",
        "        model.eval()\n",
        "        out = torch.zeros(len(dataloader.dataset), dim_covariate_image_embed, device=device)\n",
        "        idx = 0\n",
        "        for batch in dataloader:\n",
        "            x, d, v, y = batch\n",
        "            batch_size = x.size(0)\n",
        "            with torch.no_grad():\n",
        "                z = model.covariate_image_encoder(v.to(device))\n",
        "            out[idx:idx+batch_size] = z\n",
        "            idx += batch_size\n",
        "        return out.cpu()\n",
        "\n",
        "    # Compute the image embeddings of the training and test dataset for the naive embedding net\n",
        "    naive_image_embeddings_train = compute_embeddings(train_loader_ci, naive_embedding_net, dim_covariate_image_embed_naive)\n",
        "    naive_image_embeddings_test = compute_embeddings(test_loader_ci, naive_embedding_net, dim_covariate_image_embed_naive)\n",
        "\n",
        "    # Compute the image embeddings of the training and test dataset for the debiased embedding net\n",
        "    debiased_image_embeddings_train = compute_embeddings(train_loader_ci, debiased_embedding_net, dim_covariate_image_embed)\n",
        "    debiased_image_embeddings_test = compute_embeddings(test_loader_ci, debiased_embedding_net, dim_covariate_image_embed)\n",
        "\n",
        "    # Define the function to compute the true ATE and the estimators\n",
        "    def compute_ground_truth_ATE_and_estimators(dataset, naive_image_embeddings, debiased_image_embeddings):\n",
        "        # Compute the true ATE\n",
        "        true_ATEs = compute_ATE(dataset, type = \"true\")\n",
        "        true_ATE = true_ATEs.dr\n",
        "\n",
        "        # Compute the biased ATE\n",
        "        biased_ATEs = compute_ATE(dataset, type = \"biased\")\n",
        "\n",
        "        # Compute the naive ATE\n",
        "        naive_ATEs = compute_ATE(dataset, type = \"learned_covariate_image\", covariate_image = naive_image_embeddings)\n",
        "\n",
        "        # Compute the debiased ATE\n",
        "        debiased_ATEs = compute_ATE(dataset, type = \"learned_covariate_image\", covariate_image = debiased_image_embeddings)\n",
        "\n",
        "        return ATE(true_ATE, biased_ATEs, naive_ATEs, debiased_ATEs)\n",
        "\n",
        "    # Compute the true ATE and the estimates by each estimator and each method\n",
        "    train_ATEs = compute_ground_truth_ATE_and_estimators(training_dataset_ci, naive_image_embeddings_train, debiased_image_embeddings_train)\n",
        "    test_ATEs = compute_ground_truth_ATE_and_estimators(test_dataset_ci, naive_image_embeddings_test, debiased_image_embeddings_test)\n",
        "\n",
        "    # Create a row to add to the dataframe\n",
        "    new_rows = [{\"id\": seed, \"estimator\": \"regression\", \"method\": \"biased\", \"train_err\": train_ATEs.biased_ATE.error_reg(train_ATEs.true_ATE), \"test_err\": test_ATEs.biased_ATE.error_reg(test_ATEs.true_ATE)},\n",
        "                {\"id\": seed, \"estimator\": \"ipw\", \"method\": \"biased\", \"train_err\": train_ATEs.biased_ATE.error_ipw(train_ATEs.true_ATE), \"test_err\": test_ATEs.biased_ATE.error_ipw(test_ATEs.true_ATE)},\n",
        "                {\"id\": seed, \"estimator\": \"dr\", \"method\": \"biased\", \"train_err\": train_ATEs.biased_ATE.error_dr(train_ATEs.true_ATE), \"test_err\": test_ATEs.biased_ATE.error_dr(test_ATEs.true_ATE)},\n",
        "\n",
        "                {\"id\": seed, \"estimator\": \"regression\", \"method\": \"naive\", \"train_err\": train_ATEs.naive_ATE.error_reg(train_ATEs.true_ATE), \"test_err\": test_ATEs.naive_ATE.error_reg(test_ATEs.true_ATE)},\n",
        "                {\"id\": seed, \"estimator\": \"ipw\", \"method\": \"naive\", \"train_err\": train_ATEs.naive_ATE.error_ipw(train_ATEs.true_ATE), \"test_err\": test_ATEs.naive_ATE.error_ipw(test_ATEs.true_ATE)},\n",
        "                {\"id\": seed, \"estimator\": \"dr\", \"method\": \"naive\", \"train_err\": train_ATEs.naive_ATE.error_dr(train_ATEs.true_ATE), \"test_err\": test_ATEs.naive_ATE.error_dr(test_ATEs.true_ATE)},\n",
        "\n",
        "                {\"id\": seed, \"estimator\": \"regression\", \"method\": \"debiased\", \"train_err\": train_ATEs.debiased_ATE.error_reg(train_ATEs.true_ATE), \"test_err\": test_ATEs.debiased_ATE.error_reg(test_ATEs.true_ATE)},\n",
        "                {\"id\": seed, \"estimator\": \"ipw\", \"method\": \"debiased\", \"train_err\": train_ATEs.debiased_ATE.error_ipw(train_ATEs.true_ATE), \"test_err\": test_ATEs.debiased_ATE.error_ipw(test_ATEs.true_ATE)},\n",
        "                {\"id\": seed, \"estimator\": \"dr\", \"method\": \"debiased\", \"train_err\": train_ATEs.debiased_ATE.error_dr(train_ATEs.true_ATE), \"test_err\": test_ATEs.debiased_ATE.error_dr(test_ATEs.true_ATE)},\n",
        "                ]\n",
        "\n",
        "    # Add the row to the dataframe\n",
        "    df_new = pd.DataFrame(new_rows)\n",
        "    if config.print_result_per_seed:\n",
        "        print(df_new)\n",
        "    df_result = pd.concat([df_result, df_new], ignore_index=True)"
      ]
    },
    {
      "cell_type": "code",
      "execution_count": 12,
      "metadata": {
        "id": "u4hVDJqGy_ti"
      },
      "outputs": [],
      "source": [
        "# Save the resulting dataframe\n",
        "df_result.to_pickle(\"df_result.pkl\")"
      ]
    }
  ],
  "metadata": {
    "colab": {
      "provenance": []
    },
    "kernelspec": {
      "display_name": "base",
      "language": "python",
      "name": "python3"
    },
    "language_info": {
      "codemirror_mode": {
        "name": "ipython",
        "version": 3
      },
      "file_extension": ".py",
      "mimetype": "text/x-python",
      "name": "python",
      "nbconvert_exporter": "python",
      "pygments_lexer": "ipython3",
      "version": "3.11.5"
    }
  },
  "nbformat": 4,
  "nbformat_minor": 0
}
